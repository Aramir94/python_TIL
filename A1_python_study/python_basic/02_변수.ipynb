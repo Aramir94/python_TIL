{
 "cells": [
  {
   "cell_type": "code",
   "execution_count": 1,
   "id": "8b61bb84",
   "metadata": {},
   "outputs": [
    {
     "name": "stdout",
     "output_type": "stream",
     "text": [
      "우리집 강아지의 이름은 연탄이에요\n",
      "연탄이는 4살이며, 산책을 아주 좋아해요\n",
      "연탄이는 어른일까요? True\n"
     ]
    }
   ],
   "source": [
    "# 애완동물을 소개해 주세요~\n",
    "\n",
    "print(\"우리집 강아지의 이름은 연탄이에요\")\n",
    "print(\"연탄이는 4살이며, 산책을 아주 좋아해요\")\n",
    "print(\"연탄이는 어른일까요? True\")"
   ]
  },
  {
   "cell_type": "code",
   "execution_count": 2,
   "id": "a0c6eaf6",
   "metadata": {},
   "outputs": [
    {
     "name": "stdout",
     "output_type": "stream",
     "text": [
      "우리집 강아지의 이름은 연탄이에요\n",
      "연탄이는 4살이며, 산책을 아주 좋아해요\n",
      "연탄이는 어른일까요? True\n",
      "우리집 강아지의 이름은 해피에요\n",
      "해피는 4살이며, 산책을 아주 좋아해요\n",
      "해피는 어른일까요? True\n"
     ]
    }
   ],
   "source": [
    "# 수정 전\n",
    "print(\"우리집 강아지의 이름은 연탄이에요\")\n",
    "print(\"연탄이는 4살이며, 산책을 아주 좋아해요\")\n",
    "print(\"연탄이는 어른일까요? True\")\n",
    "\n",
    "# 수정 후\n",
    "print(\"우리집 강아지의 이름은 해피에요\")\n",
    "print(\"해피는 4살이며, 산책을 아주 좋아해요\")\n",
    "print(\"해피는 어른일까요? True\")\n"
   ]
  },
  {
   "cell_type": "markdown",
   "id": "bc938c9e",
   "metadata": {},
   "source": [
    "# 일일이 치는 것을 우리는 하드 코딩이라고 합니다 \n",
    "\n",
    "- 위와 같이 강아지 이름 바뀔때 마다 일일이 타이핑?\n",
    "- 어른/아이, 산책 등등 다양한 변수를 어떻게 대처할꺼냐.. \n"
   ]
  },
  {
   "cell_type": "markdown",
   "id": "503d4a54",
   "metadata": {},
   "source": [
    "# 프로그래밍에서는 변수라는 개념이 존재!\n",
    "- 어떤 값을 저장하는 공간"
   ]
  },
  {
   "cell_type": "code",
   "execution_count": 3,
   "id": "3da750a7",
   "metadata": {},
   "outputs": [],
   "source": [
    "name = \"연탄\""
   ]
  },
  {
   "cell_type": "code",
   "execution_count": 4,
   "id": "a43858d7",
   "metadata": {},
   "outputs": [],
   "source": [
    "animal = \"강아지\""
   ]
  },
  {
   "cell_type": "code",
   "execution_count": 5,
   "id": "cd6fe604",
   "metadata": {},
   "outputs": [],
   "source": [
    "age = 4"
   ]
  },
  {
   "cell_type": "code",
   "execution_count": 6,
   "id": "8c4f27e2",
   "metadata": {},
   "outputs": [],
   "source": [
    "hobby = \"산책\""
   ]
  },
  {
   "cell_type": "code",
   "execution_count": 7,
   "id": "e2fcc3ac",
   "metadata": {},
   "outputs": [],
   "source": [
    "is_adult = age >= 3 "
   ]
  },
  {
   "cell_type": "code",
   "execution_count": 8,
   "id": "3229149c",
   "metadata": {},
   "outputs": [
    {
     "name": "stdout",
     "output_type": "stream",
     "text": [
      "우리집 강아지의 이름은 연탄이에요\n"
     ]
    }
   ],
   "source": [
    "print(\"우리집 \" + animal + \"의 이름은 연탄이에요\")"
   ]
  },
  {
   "cell_type": "code",
   "execution_count": 9,
   "id": "9a9688ed",
   "metadata": {},
   "outputs": [
    {
     "name": "stdout",
     "output_type": "stream",
     "text": [
      "우리집 강아지의 이름은 연탄에요\n"
     ]
    }
   ],
   "source": [
    "print(\"우리집 \" + animal + \"의 이름은 \" + name + \"에요\")\n"
   ]
  },
  {
   "cell_type": "code",
   "execution_count": 10,
   "id": "5673675e",
   "metadata": {},
   "outputs": [
    {
     "ename": "TypeError",
     "evalue": "can only concatenate str (not \"int\") to str",
     "output_type": "error",
     "traceback": [
      "\u001b[0;31m---------------------------------------------------------------------------\u001b[0m",
      "\u001b[0;31mTypeError\u001b[0m                                 Traceback (most recent call last)",
      "\u001b[0;32m/var/folders/2r/_fr309ls60x8zpqkcdvzvn940000gn/T/ipykernel_7260/3024923248.py\u001b[0m in \u001b[0;36m<module>\u001b[0;34m\u001b[0m\n\u001b[0;32m----> 1\u001b[0;31m \u001b[0mprint\u001b[0m\u001b[0;34m(\u001b[0m\u001b[0mname\u001b[0m \u001b[0;34m+\u001b[0m \u001b[0;34m\"는 \"\u001b[0m \u001b[0;34m+\u001b[0m \u001b[0mage\u001b[0m \u001b[0;34m+\u001b[0m \u001b[0;34m\"살이며, \"\u001b[0m \u001b[0;34m+\u001b[0m \u001b[0mhobby\u001b[0m \u001b[0;34m+\u001b[0m \u001b[0;34m\"을 아주 좋아해요\"\u001b[0m\u001b[0;34m)\u001b[0m\u001b[0;34m\u001b[0m\u001b[0;34m\u001b[0m\u001b[0m\n\u001b[0m",
      "\u001b[0;31mTypeError\u001b[0m: can only concatenate str (not \"int\") to str"
     ]
    }
   ],
   "source": [
    "print(name + \"는 \" + age + \"살이며, \" + hobby + \"을 아주 좋아해요\")\n"
   ]
  },
  {
   "cell_type": "code",
   "execution_count": 11,
   "id": "92e53fa2",
   "metadata": {},
   "outputs": [
    {
     "name": "stdout",
     "output_type": "stream",
     "text": [
      "연탄는 4살이며, 산책을 아주 좋아해요\n"
     ]
    }
   ],
   "source": [
    "# 자료형은 같은 자료형 끼리 연산 가능하다\n",
    "print(name + \"는 \" + str(age) + \"살이며, \" + hobby + \"을 아주 좋아해요\")"
   ]
  },
  {
   "cell_type": "code",
   "execution_count": 12,
   "id": "e127254a",
   "metadata": {},
   "outputs": [
    {
     "name": "stdout",
     "output_type": "stream",
     "text": [
      "6\n"
     ]
    }
   ],
   "source": [
    "print(3+3)"
   ]
  },
  {
   "cell_type": "code",
   "execution_count": 13,
   "id": "fc0305f2",
   "metadata": {},
   "outputs": [
    {
     "name": "stdout",
     "output_type": "stream",
     "text": [
      "33\n"
     ]
    }
   ],
   "source": [
    "print(\"3\"+\"3\")"
   ]
  },
  {
   "cell_type": "code",
   "execution_count": 14,
   "id": "1f6d29f6",
   "metadata": {},
   "outputs": [
    {
     "name": "stdout",
     "output_type": "stream",
     "text": [
      "데이터마케팅\n"
     ]
    }
   ],
   "source": [
    "print('데이터'+\"마케팅\")"
   ]
  },
  {
   "cell_type": "code",
   "execution_count": 15,
   "id": "da0114da",
   "metadata": {},
   "outputs": [
    {
     "ename": "TypeError",
     "evalue": "can only concatenate str (not \"int\") to str",
     "output_type": "error",
     "traceback": [
      "\u001b[0;31m---------------------------------------------------------------------------\u001b[0m",
      "\u001b[0;31mTypeError\u001b[0m                                 Traceback (most recent call last)",
      "\u001b[0;32m/var/folders/2r/_fr309ls60x8zpqkcdvzvn940000gn/T/ipykernel_7260/3670168746.py\u001b[0m in \u001b[0;36m<module>\u001b[0;34m\u001b[0m\n\u001b[0;32m----> 1\u001b[0;31m \u001b[0mprint\u001b[0m\u001b[0;34m(\u001b[0m\u001b[0;34m'3'\u001b[0m \u001b[0;34m+\u001b[0m \u001b[0;36m3\u001b[0m\u001b[0;34m)\u001b[0m\u001b[0;34m\u001b[0m\u001b[0;34m\u001b[0m\u001b[0m\n\u001b[0m",
      "\u001b[0;31mTypeError\u001b[0m: can only concatenate str (not \"int\") to str"
     ]
    }
   ],
   "source": [
    "print('3' + 3)"
   ]
  },
  {
   "cell_type": "code",
   "execution_count": 16,
   "id": "5d06795a",
   "metadata": {},
   "outputs": [
    {
     "name": "stdout",
     "output_type": "stream",
     "text": [
      "연탄는 어른일까요? True\n"
     ]
    }
   ],
   "source": [
    "print(name + \"는 어른일까요? \" + str(is_adult))\n"
   ]
  },
  {
   "cell_type": "code",
   "execution_count": 17,
   "id": "8246b394",
   "metadata": {},
   "outputs": [
    {
     "name": "stdout",
     "output_type": "stream",
     "text": [
      "우리집 강아지의 이름은 연탄이에요\n",
      "연탄이는 4살이며, 산책을 아주 좋아해요\n",
      "연탄이는 어른일까요? True\n"
     ]
    }
   ],
   "source": [
    "name = \"연탄이\"\n",
    "animal = \"강아지\"\n",
    "age = 4\n",
    "hobby = \"산책\"\n",
    "is_adult = age >= 3\n",
    "\n",
    "print(\"우리집 \" + animal + \"의 이름은 \" + name + \"에요\")\n",
    "print(name + \"는 \" + str(age) + \"살이며, \" + hobby + \"을 아주 좋아해요\")\n",
    "print(name + \"는 어른일까요? \" + str(is_adult))"
   ]
  },
  {
   "cell_type": "code",
   "execution_count": 18,
   "id": "ff8d4577",
   "metadata": {},
   "outputs": [
    {
     "name": "stdout",
     "output_type": "stream",
     "text": [
      "우리집 고양이의 이름은 해피에요\n",
      "해피는 4살이며, 낮잠을 아주 좋아해요\n",
      "해피는 어른일까요? True\n"
     ]
    }
   ],
   "source": [
    "animal = \"고양이\"\n",
    "name = \"해피\"\n",
    "age = 4\n",
    "hobby = \"낮잠\"\n",
    "is_adult = age >= 3\n",
    "\n",
    "print(\"우리집 \" + animal + \"의 이름은 \" + name + \"에요\")\n",
    "print(name + \"는 \" + str(age) + \"살이며, \" + hobby + \"을 아주 좋아해요\")\n",
    "print(name + \"는 어른일까요? \" + str(is_adult))"
   ]
  },
  {
   "cell_type": "code",
   "execution_count": null,
   "id": "0e5f7543",
   "metadata": {},
   "outputs": [],
   "source": []
  }
 ],
 "metadata": {
  "kernelspec": {
   "display_name": "Python 3 (ipykernel)",
   "language": "python",
   "name": "python3"
  },
  "language_info": {
   "codemirror_mode": {
    "name": "ipython",
    "version": 3
   },
   "file_extension": ".py",
   "mimetype": "text/x-python",
   "name": "python",
   "nbconvert_exporter": "python",
   "pygments_lexer": "ipython3",
   "version": "3.8.12"
  }
 },
 "nbformat": 4,
 "nbformat_minor": 5
}
