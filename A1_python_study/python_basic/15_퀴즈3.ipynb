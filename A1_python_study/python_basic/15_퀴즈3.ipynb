{
 "cells": [
  {
   "cell_type": "markdown",
   "id": "6e4c2d73",
   "metadata": {},
   "source": [
    "Quiz) 사이트 별로 비밀번호를 만들어주는 프로그램을 작성하시오.\n",
    "\n",
    "- 예) http://naver.com\n",
    "- 규칙1 : http:// 부분은 제외 → naver.com\n",
    "- 규칙2 : 처음 만나는 점(.) 이후 부분은 제외 → naver\n",
    "- 규칙3 : 남은 글자 중 처음 세 자리 + 글자 갯수 + 글자 내 'e'의 갯수 + '!'로 구성\n",
    "                       (nav)    (5)          (1)            (!)\n",
    "\n",
    "예) 생성된 비밀번호 : nav51!"
   ]
  },
  {
   "cell_type": "markdown",
   "id": "ef3c698b",
   "metadata": {},
   "source": [
    "\n",
    "http://naver.com 일 때\n",
    " → nav51!\n",
    "\n",
    "http://daum.net 일 때\n",
    " → dau40!\n",
    "\n",
    "http://google.com 일 때\n",
    " → goo61!\n",
    "\n",
    "http://youtube.com 일 때\n",
    " → you71!"
   ]
  },
  {
   "cell_type": "code",
   "execution_count": null,
   "id": "feaf39a1",
   "metadata": {},
   "outputs": [],
   "source": []
  },
  {
   "cell_type": "code",
   "execution_count": null,
   "id": "ea2e0cad",
   "metadata": {},
   "outputs": [],
   "source": []
  },
  {
   "cell_type": "code",
   "execution_count": null,
   "id": "a94e3980",
   "metadata": {},
   "outputs": [],
   "source": []
  },
  {
   "cell_type": "code",
   "execution_count": null,
   "id": "4d0a7b8d",
   "metadata": {},
   "outputs": [],
   "source": []
  },
  {
   "cell_type": "code",
   "execution_count": null,
   "id": "a9057f1c",
   "metadata": {},
   "outputs": [],
   "source": []
  },
  {
   "cell_type": "code",
   "execution_count": null,
   "id": "bc86732f",
   "metadata": {},
   "outputs": [],
   "source": []
  },
  {
   "cell_type": "code",
   "execution_count": null,
   "id": "b811e4e0",
   "metadata": {},
   "outputs": [],
   "source": []
  },
  {
   "cell_type": "code",
   "execution_count": 2,
   "id": "e83071c8",
   "metadata": {},
   "outputs": [
    {
     "name": "stdout",
     "output_type": "stream",
     "text": [
      "http://naver.com 의 비밀번호는 nav51! 입니다.\n"
     ]
    }
   ],
   "source": [
    "url = \"http://naver.com\"\n",
    "# url = \"http://daum.net\"\n",
    "# url = \"http://google.com\"\n",
    "# url = \"http://youtube.com\"\n",
    "\n",
    "my_str = url.replace(\"http://\", \"\") # 규칙 1\n",
    "\n",
    "my_str = my_str[:my_str.index(\".\")] # 규칙 2\n",
    "# naver.com 일 때 my_str.index(\".\") 의 결과는 5 이므로 위 문장은\n",
    "# my_str = mystr[0:5] 와 같음\n",
    "\n",
    "password = my_str[:3] + str(len(my_str)) + str(my_str.count(\"e\")) + \"!\" # 규칙 3\n",
    "\n",
    "print(\"{0} 의 비밀번호는 {1} 입니다.\".format(url, password))"
   ]
  },
  {
   "cell_type": "code",
   "execution_count": null,
   "id": "2c49b673",
   "metadata": {},
   "outputs": [],
   "source": []
  }
 ],
 "metadata": {
  "kernelspec": {
   "display_name": "Python 3 (ipykernel)",
   "language": "python",
   "name": "python3"
  },
  "language_info": {
   "codemirror_mode": {
    "name": "ipython",
    "version": 3
   },
   "file_extension": ".py",
   "mimetype": "text/x-python",
   "name": "python",
   "nbconvert_exporter": "python",
   "pygments_lexer": "ipython3",
   "version": "3.8.12"
  }
 },
 "nbformat": 4,
 "nbformat_minor": 5
}
