{
 "cells": [
  {
   "cell_type": "code",
   "execution_count": 1,
   "id": "8fa81fbc",
   "metadata": {},
   "outputs": [
    {
     "data": {
      "text/plain": [
       "'\\nif 조건:\\n    실행 명령문\\n'"
      ]
     },
     "execution_count": 1,
     "metadata": {},
     "output_type": "execute_result"
    }
   ],
   "source": [
    "\"\"\"\n",
    "if 조건:\n",
    "    실행 명령문\n",
    "\"\"\""
   ]
  },
  {
   "cell_type": "code",
   "execution_count": 2,
   "id": "b086b8c4",
   "metadata": {},
   "outputs": [
    {
     "name": "stdout",
     "output_type": "stream",
     "text": [
      "우산을 챙기세요\n"
     ]
    }
   ],
   "source": [
    "weather = \"비\"\n",
    "\n",
    "if weather == \"비\": # = 은 2번 써야 해요!!\n",
    "    print(\"우산을 챙기세요\")"
   ]
  },
  {
   "cell_type": "code",
   "execution_count": 3,
   "id": "a3928bf8",
   "metadata": {},
   "outputs": [],
   "source": [
    "weather = \"맑음\" # 맑음으로 바꾸면 실행 안됨\n",
    "\n",
    "if weather == \"비\":\n",
    "    print(\"우산을 챙기세요\")"
   ]
  },
  {
   "cell_type": "code",
   "execution_count": 4,
   "id": "b60d842d",
   "metadata": {},
   "outputs": [
    {
     "name": "stdout",
     "output_type": "stream",
     "text": [
      "마스크를 챙기세요\n"
     ]
    }
   ],
   "source": [
    "weather = \"미세먼지\"\n",
    "\n",
    "if weather == \"비\":\n",
    "    print(\"우산을 챙기세요\") # 1번\n",
    "elif weather == \"미세먼지\":\n",
    "    print(\"마스크를 챙기세요\") # 2번\n"
   ]
  },
  {
   "cell_type": "code",
   "execution_count": 5,
   "id": "9bf25fe1",
   "metadata": {},
   "outputs": [
    {
     "name": "stdout",
     "output_type": "stream",
     "text": [
      "준비물 필요 없어요\n"
     ]
    }
   ],
   "source": [
    "weather = \"맑아요\"\n",
    "\n",
    "if weather == \"비\":\n",
    "    print(\"우산을 챙기세요\")\n",
    "elif weather == \"미세먼지\":\n",
    "    print(\"마스크를 챙기세요\")\n",
    "else:\n",
    "    print(\"준비물 필요 없어요\")"
   ]
  },
  {
   "cell_type": "code",
   "execution_count": 6,
   "id": "c0e9f2ac",
   "metadata": {},
   "outputs": [
    {
     "name": "stdout",
     "output_type": "stream",
     "text": [
      "오늘 날씨는 어때요? 맑아요\n",
      "맑아요\n"
     ]
    }
   ],
   "source": [
    "weather = input(\"오늘 날씨는 어때요? \")\n",
    "print(weather) # 사용자가 입력한 값 출력\n"
   ]
  },
  {
   "cell_type": "code",
   "execution_count": 7,
   "id": "281b31d9",
   "metadata": {},
   "outputs": [
    {
     "name": "stdout",
     "output_type": "stream",
     "text": [
      "오늘 날씨는 어때요? 비\n",
      "우산을 챙기세요\n"
     ]
    }
   ],
   "source": [
    "weather = input(\"오늘 날씨는 어때요? \")\n",
    "# print(weather) # 사용자가 입력한 값 출력 # 주석 처리\n",
    "\n",
    "if weather == \"비\":\n",
    "    print(\"우산을 챙기세요\")\n",
    "elif weather == \"미세먼지\":\n",
    "    print(\"마스크를 챙기세요\")\n",
    "else:\n",
    "    print(\"준비물 필요 없어요\")"
   ]
  },
  {
   "cell_type": "code",
   "execution_count": 8,
   "id": "d2c4b4df",
   "metadata": {},
   "outputs": [
    {
     "name": "stdout",
     "output_type": "stream",
     "text": [
      "기온은 어때요? 30\n"
     ]
    }
   ],
   "source": [
    "temp = int(input(\"기온은 어때요? \"))\n"
   ]
  },
  {
   "cell_type": "code",
   "execution_count": 9,
   "id": "c1c4a81e",
   "metadata": {},
   "outputs": [
    {
     "name": "stdout",
     "output_type": "stream",
     "text": [
      "너무 더워요. 나가지 마세요\n"
     ]
    }
   ],
   "source": [
    "if 30 <= temp: # 30 도 이상이면\n",
    "    print(\"너무 더워요. 나가지 마세요\")\n",
    "elif 10 <= temp and temp < 30: # 10도 이상 30도 미만이면\n",
    "    print(\"괜찮은 날씨에요\")\n",
    "elif 0 <= temp and temp < 10: # 0도 이상 10도 미만이면\n",
    "# 위 비교 문장은 이렇게도 작성 가능합니다.\n",
    "# elif 0 <= temp < 10:\n",
    "    print(\"외투를 챙기세요\")\n",
    "else: # 그 외의 모든 경우 (0도 미만이면)\n",
    "    print(\"너무 추워요. 나가지 마세요\")"
   ]
  },
  {
   "cell_type": "code",
   "execution_count": null,
   "id": "23c3e062",
   "metadata": {},
   "outputs": [],
   "source": []
  }
 ],
 "metadata": {
  "kernelspec": {
   "display_name": "Python 3 (ipykernel)",
   "language": "python",
   "name": "python3"
  },
  "language_info": {
   "codemirror_mode": {
    "name": "ipython",
    "version": 3
   },
   "file_extension": ".py",
   "mimetype": "text/x-python",
   "name": "python",
   "nbconvert_exporter": "python",
   "pygments_lexer": "ipython3",
   "version": "3.9.13"
  }
 },
 "nbformat": 4,
 "nbformat_minor": 5
}
