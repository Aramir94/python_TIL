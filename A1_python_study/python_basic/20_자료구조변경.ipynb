{
 "cells": [
  {
   "cell_type": "code",
   "execution_count": 1,
   "id": "b01afaa1",
   "metadata": {},
   "outputs": [
    {
     "name": "stdout",
     "output_type": "stream",
     "text": [
      "{'주스', '커피', '우유'} <class 'set'>\n"
     ]
    }
   ],
   "source": [
    "menu = {\"커피\", \"우유\", \"주스\"}\n",
    "print(menu, type(menu)) # menu 의 type 정보 : set"
   ]
  },
  {
   "cell_type": "code",
   "execution_count": 2,
   "id": "a82d325e",
   "metadata": {},
   "outputs": [
    {
     "name": "stdout",
     "output_type": "stream",
     "text": [
      "['주스', '커피', '우유'] <class 'list'>\n"
     ]
    }
   ],
   "source": [
    "menu = list(menu) # 리스트 형태로 변환\n",
    "print(menu, type(menu)) # menu 의 type 정보 : list"
   ]
  },
  {
   "cell_type": "code",
   "execution_count": 3,
   "id": "29e6656f",
   "metadata": {},
   "outputs": [
    {
     "name": "stdout",
     "output_type": "stream",
     "text": [
      "('주스', '커피', '우유') <class 'tuple'>\n"
     ]
    }
   ],
   "source": [
    "menu = tuple(menu) # 튜플 형태로 변환\n",
    "print(menu, type(menu)) # menu 의 type 정보 : tuple"
   ]
  },
  {
   "cell_type": "code",
   "execution_count": 4,
   "id": "53c8f3e6",
   "metadata": {},
   "outputs": [
    {
     "name": "stdout",
     "output_type": "stream",
     "text": [
      "{'주스', '커피', '우유'} <class 'set'>\n"
     ]
    }
   ],
   "source": [
    "menu = set(menu) # 세트 형태로 변환\n",
    "print(menu, type(menu)) # menu 의 type 정보 : set"
   ]
  },
  {
   "cell_type": "code",
   "execution_count": null,
   "id": "ef51378c",
   "metadata": {},
   "outputs": [],
   "source": []
  }
 ],
 "metadata": {
  "kernelspec": {
   "display_name": "Python 3 (ipykernel)",
   "language": "python",
   "name": "python3"
  },
  "language_info": {
   "codemirror_mode": {
    "name": "ipython",
    "version": 3
   },
   "file_extension": ".py",
   "mimetype": "text/x-python",
   "name": "python",
   "nbconvert_exporter": "python",
   "pygments_lexer": "ipython3",
   "version": "3.8.12"
  }
 },
 "nbformat": 4,
 "nbformat_minor": 5
}
