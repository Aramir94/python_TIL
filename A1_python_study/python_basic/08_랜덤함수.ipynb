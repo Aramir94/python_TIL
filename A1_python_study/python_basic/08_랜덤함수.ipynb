{
 "cells": [
  {
   "cell_type": "markdown",
   "id": "2f0f76be",
   "metadata": {},
   "source": [
    "# 파이썬에서는 무작위로 어떤 수를 뽑아주는 random 모듈이 있다"
   ]
  },
  {
   "cell_type": "code",
   "execution_count": 2,
   "id": "b77b45e8",
   "metadata": {},
   "outputs": [
    {
     "name": "stdout",
     "output_type": "stream",
     "text": [
      "0.6991154346070803\n"
     ]
    }
   ],
   "source": [
    "from random import * # random 모듈에서 모든 것들을 가져다 쓰겠다는 의미\n",
    "\n",
    "print(random()) # 0.0 이상 1.0 미만의 임의의 값 생성"
   ]
  },
  {
   "cell_type": "code",
   "execution_count": 3,
   "id": "183cb650",
   "metadata": {},
   "outputs": [
    {
     "name": "stdout",
     "output_type": "stream",
     "text": [
      "1.589617244157917\n",
      "9\n",
      "4\n"
     ]
    }
   ],
   "source": [
    "print(random() * 10) # 0.0 이상 10.0 미만의 임의의 값 생성\n",
    "print(int(random() * 10)) # 0 이상 10 미만의 임의의 정수 값 생성\n",
    "print(int(random() * 10) + 1) # 1 이상 10 이하 (11 미만) 의 임의의 정수 값 생성\n"
   ]
  },
  {
   "cell_type": "markdown",
   "id": "c17c161b",
   "metadata": {},
   "source": [
    "# 1 ~ 45 사이의 로또 번호를 뽑으라고 하면 "
   ]
  },
  {
   "cell_type": "code",
   "execution_count": 5,
   "id": "015c2bce",
   "metadata": {},
   "outputs": [
    {
     "name": "stdout",
     "output_type": "stream",
     "text": [
      "24\n"
     ]
    }
   ],
   "source": [
    "print(int(random() * 45) + 1) # 1 이상 46 미만의 임의의 정수 값 생성"
   ]
  },
  {
   "cell_type": "markdown",
   "id": "de56d6af",
   "metadata": {},
   "source": [
    "# 범위 계산이 머리가 아프니깐 \n",
    "- 파이썬에서는 원하는 범위 내의 랜덤 수를 뽑는 함수 제공"
   ]
  },
  {
   "cell_type": "code",
   "execution_count": null,
   "id": "5044944f",
   "metadata": {},
   "outputs": [],
   "source": [
    "print(randrange(1, 46)) # 1 이상 46 미만의 임의의 정수 값 생성\n",
    "print(randint(1, 45)) # 1 이상 45 이하(45를 포함해요!!)의 임의의 정수 값 생성"
   ]
  }
 ],
 "metadata": {
  "kernelspec": {
   "display_name": "Python 3 (ipykernel)",
   "language": "python",
   "name": "python3"
  },
  "language_info": {
   "codemirror_mode": {
    "name": "ipython",
    "version": 3
   },
   "file_extension": ".py",
   "mimetype": "text/x-python",
   "name": "python",
   "nbconvert_exporter": "python",
   "pygments_lexer": "ipython3",
   "version": "3.8.12"
  }
 },
 "nbformat": 4,
 "nbformat_minor": 5
}
