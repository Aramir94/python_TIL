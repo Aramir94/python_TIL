{
 "cells": [
  {
   "cell_type": "code",
   "execution_count": 1,
   "id": "91bcfe7d",
   "metadata": {},
   "outputs": [
    {
     "name": "stdout",
     "output_type": "stream",
     "text": [
      "입금이 완료되었습니다. 잔액은 1000 원입니다.\n",
      "1000\n"
     ]
    }
   ],
   "source": [
    "def deposit(balance, money): # 입금\n",
    "    print(\"입금이 완료되었습니다. 잔액은 {0} 원입니다.\".format(balance + money))\n",
    "    return balance + money # 입금 후 잔액 정보 반환\n",
    "    \n",
    "balance = 0 # 최초 잔액\n",
    "balance = deposit(balance, 1000) # 1000원 입금\n",
    "print(balance) # 현재 잔액"
   ]
  },
  {
   "cell_type": "code",
   "execution_count": 2,
   "id": "7ae67979",
   "metadata": {},
   "outputs": [
    {
     "name": "stdout",
     "output_type": "stream",
     "text": [
      "입금이 완료되었습니다. 잔액은 1000 원입니다.\n",
      "출금이 완료되지 않았습니다. 잔액은 1000 원입니다.\n",
      "출금이 완료되었습니다. 잔액은 500 원입니다.\n",
      "500\n"
     ]
    }
   ],
   "source": [
    "def withdraw(balance, money): # 출금\n",
    "    if balance >= money: # 잔액이 출금보다 많으면\n",
    "        print(\"출금이 완료되었습니다. 잔액은 {0} 원입니다.\".format(balance - money))\n",
    "        return balance - money # 출금 후 잔액 반환\n",
    "    else:\n",
    "        print(\"출금이 완료되지 않았습니다. 잔액은 {0} 원입니다.\".format(balance))\n",
    "        return balance # 기존 잔액 반환\n",
    "        \n",
    "balance = 0 # 최초 잔액\n",
    "balance = deposit(balance, 1000) # 1000원 입금\n",
    "\n",
    "# 출금 시도\n",
    "balance = withdraw(balance, 2000) # 2000원 출금 시도 시 잔액이 부족하므로 실패\n",
    "balance = withdraw(balance, 500) # 500원 출금 시도 시 성공\n",
    "print(balance) # 현재 잔액\n"
   ]
  },
  {
   "cell_type": "code",
   "execution_count": 3,
   "id": "a1a10e34",
   "metadata": {},
   "outputs": [
    {
     "name": "stdout",
     "output_type": "stream",
     "text": [
      "입금이 완료되었습니다. 잔액은 1000 원입니다.\n",
      "수수료 100 원이며, 잔액은 400 원입니다.\n"
     ]
    }
   ],
   "source": [
    "def withdraw_night(balance, money): # 저녁에 출금\n",
    "    commission = 100 # 출금 수수료 100원\n",
    "    return commission, balance - money - commission # 튜플 형식으로 반환\n",
    "    \n",
    "balance = 0 # 최초 잔액\n",
    "balance = deposit(balance, 1000) # 1000원 입금\n",
    "\n",
    "# 저녁에 출금 시도\n",
    "commission, balance = withdraw_night(balance, 500)\n",
    "print(\"수수료 {0} 원이며, 잔액은 {1} 원입니다.\".format(commission, balance))\n",
    " "
   ]
  },
  {
   "cell_type": "code",
   "execution_count": null,
   "id": "7b7f87d9",
   "metadata": {},
   "outputs": [],
   "source": []
  }
 ],
 "metadata": {
  "kernelspec": {
   "display_name": "Python 3 (ipykernel)",
   "language": "python",
   "name": "python3"
  },
  "language_info": {
   "codemirror_mode": {
    "name": "ipython",
    "version": 3
   },
   "file_extension": ".py",
   "mimetype": "text/x-python",
   "name": "python",
   "nbconvert_exporter": "python",
   "pygments_lexer": "ipython3",
   "version": "3.9.13"
  }
 },
 "nbformat": 4,
 "nbformat_minor": 5
}
