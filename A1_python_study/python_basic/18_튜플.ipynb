{
 "cells": [
  {
   "cell_type": "markdown",
   "id": "0b83c946",
   "metadata": {},
   "source": [
    "### 리스트와 비슷하지만 다른 tuple\n",
    "- 읽기 전용 리스트 \n",
    "- 처음 정의할때 이외에는 변경 추가 삭제 불가\n",
    "- 속도가 빠르다"
   ]
  },
  {
   "cell_type": "code",
   "execution_count": 1,
   "id": "6e47276e",
   "metadata": {},
   "outputs": [
    {
     "name": "stdout",
     "output_type": "stream",
     "text": [
      "돈까스\n",
      "치즈까스\n"
     ]
    }
   ],
   "source": [
    "menu = (\"돈까스\", \"치즈까스\")\n",
    "print(menu[0]) # 돈까스\n",
    "print(menu[1]) # 치즈까스"
   ]
  },
  {
   "cell_type": "code",
   "execution_count": 2,
   "id": "875784bb",
   "metadata": {},
   "outputs": [
    {
     "name": "stdout",
     "output_type": "stream",
     "text": [
      "김종국 20 코딩\n"
     ]
    }
   ],
   "source": [
    "name = \"김종국\"\n",
    "age = 20\n",
    "hobby = \"코딩\"\n",
    "print(name, age, hobby) # 김종국 20 코딩"
   ]
  },
  {
   "cell_type": "code",
   "execution_count": 3,
   "id": "a642c075",
   "metadata": {},
   "outputs": [
    {
     "name": "stdout",
     "output_type": "stream",
     "text": [
      "김종국 20 코딩\n"
     ]
    }
   ],
   "source": [
    "(name, age, hobby) = (\"김종국\", 20, \"코딩\")\n",
    "print(name, age, hobby) # 김종국 20 코딩"
   ]
  },
  {
   "cell_type": "code",
   "execution_count": null,
   "id": "a475be67",
   "metadata": {},
   "outputs": [],
   "source": []
  }
 ],
 "metadata": {
  "kernelspec": {
   "display_name": "Python 3 (ipykernel)",
   "language": "python",
   "name": "python3"
  },
  "language_info": {
   "codemirror_mode": {
    "name": "ipython",
    "version": 3
   },
   "file_extension": ".py",
   "mimetype": "text/x-python",
   "name": "python",
   "nbconvert_exporter": "python",
   "pygments_lexer": "ipython3",
   "version": "3.8.12"
  }
 },
 "nbformat": 4,
 "nbformat_minor": 5
}
