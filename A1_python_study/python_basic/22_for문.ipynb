{
 "cells": [
  {
   "cell_type": "code",
   "execution_count": 1,
   "id": "59b19950",
   "metadata": {},
   "outputs": [
    {
     "name": "stdout",
     "output_type": "stream",
     "text": [
      "대기번호 : 1\n"
     ]
    }
   ],
   "source": [
    "print(\"대기번호 : 1\")\n"
   ]
  },
  {
   "cell_type": "code",
   "execution_count": 2,
   "id": "d6e551e4",
   "metadata": {},
   "outputs": [
    {
     "name": "stdout",
     "output_type": "stream",
     "text": [
      "대기번호 : 2\n",
      "대기번호 : 3\n",
      "대기번호 : 4\n"
     ]
    }
   ],
   "source": [
    "print(\"대기번호 : 2\")\n",
    "print(\"대기번호 : 3\")\n",
    "print(\"대기번호 : 4\")"
   ]
  },
  {
   "cell_type": "code",
   "execution_count": 3,
   "id": "109781ca",
   "metadata": {},
   "outputs": [
    {
     "data": {
      "text/plain": [
       "'\\nfor 변수 in 반복대상:\\n    실행 명령문1\\n    실행 명령문2\\n'"
      ]
     },
     "execution_count": 3,
     "metadata": {},
     "output_type": "execute_result"
    }
   ],
   "source": [
    "\"\"\"\n",
    "for 변수 in 반복대상:\n",
    "    실행 명령문1\n",
    "    실행 명령문2\n",
    "\"\"\""
   ]
  },
  {
   "cell_type": "code",
   "execution_count": 4,
   "id": "3a3a33e7",
   "metadata": {},
   "outputs": [
    {
     "name": "stdout",
     "output_type": "stream",
     "text": [
      "대기번호 : 0\n",
      "대기번호 : 1\n",
      "대기번호 : 2\n",
      "대기번호 : 3\n",
      "대기번호 : 4\n"
     ]
    }
   ],
   "source": [
    "for waiting_no in [0, 1, 2, 3, 4]:\n",
    "    print(\"대기번호 : {0}\".format(waiting_no)) # {0} 위치에는 waiting_no 의 값이 들어가요"
   ]
  },
  {
   "cell_type": "code",
   "execution_count": 5,
   "id": "6f427625",
   "metadata": {},
   "outputs": [
    {
     "name": "stdout",
     "output_type": "stream",
     "text": [
      "대기번호 : 0\n",
      "대기번호 : 1\n",
      "대기번호 : 2\n",
      "대기번호 : 3\n",
      "대기번호 : 4\n"
     ]
    }
   ],
   "source": [
    "for waiting_no in range(5): # 0부터 5직전까지 (0~4)\n",
    "    print(\"대기번호 : {0}\".format(waiting_no))"
   ]
  },
  {
   "cell_type": "code",
   "execution_count": 6,
   "id": "48895178",
   "metadata": {},
   "outputs": [
    {
     "name": "stdout",
     "output_type": "stream",
     "text": [
      "대기번호 : 1\n",
      "대기번호 : 2\n",
      "대기번호 : 3\n",
      "대기번호 : 4\n",
      "대기번호 : 5\n"
     ]
    }
   ],
   "source": [
    "for waiting_no in range(1, 6): # 1부터 6직전까지 (1~5)\n",
    "    print(\"대기번호 : {0}\".format(waiting_no))"
   ]
  },
  {
   "cell_type": "code",
   "execution_count": 7,
   "id": "bd83722c",
   "metadata": {},
   "outputs": [
    {
     "name": "stdout",
     "output_type": "stream",
     "text": [
      "아이언맨, 커피가 준비되었습니다\n",
      "토르, 커피가 준비되었습니다\n",
      "아이엠 그루트, 커피가 준비되었습니다\n"
     ]
    }
   ],
   "source": [
    "starbucks = [\"아이언맨\", \"토르\", \"아이엠 그루트\"] # 손님 리스트\n",
    "for customer in starbucks:\n",
    "    print(\"{0}, 커피가 준비되었습니다\".format(customer))\n"
   ]
  },
  {
   "cell_type": "code",
   "execution_count": null,
   "id": "3513fd8f",
   "metadata": {},
   "outputs": [],
   "source": []
  }
 ],
 "metadata": {
  "kernelspec": {
   "display_name": "Python 3 (ipykernel)",
   "language": "python",
   "name": "python3"
  },
  "language_info": {
   "codemirror_mode": {
    "name": "ipython",
    "version": 3
   },
   "file_extension": ".py",
   "mimetype": "text/x-python",
   "name": "python",
   "nbconvert_exporter": "python",
   "pygments_lexer": "ipython3",
   "version": "3.9.13"
  }
 },
 "nbformat": 4,
 "nbformat_minor": 5
}
