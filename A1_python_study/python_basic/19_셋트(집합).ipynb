{
 "cells": [
  {
   "cell_type": "markdown",
   "id": "e776cd57",
   "metadata": {},
   "source": [
    "## 중복을 허용하지 않으며 데이터의 순서도 보장하지 않음"
   ]
  },
  {
   "cell_type": "markdown",
   "id": "4705e17e",
   "metadata": {},
   "source": [
    "- {}로 표현됨"
   ]
  },
  {
   "cell_type": "code",
   "execution_count": 1,
   "id": "d7868299",
   "metadata": {},
   "outputs": [
    {
     "name": "stdout",
     "output_type": "stream",
     "text": [
      "{1, 2, 3}\n"
     ]
    }
   ],
   "source": [
    "my_set = {1, 2, 3, 3, 3} # 중복을 허용하지 않으므로 3은 1번만 들어감\n",
    "print(my_set) # {1, 2, 3}"
   ]
  },
  {
   "cell_type": "code",
   "execution_count": 2,
   "id": "dc2c6a59",
   "metadata": {},
   "outputs": [],
   "source": [
    "java = {\"유재석\", \"김태호\", \"양세형\"} # 자바 개발자 집합\n",
    "python = set([\"유재석\", \"박명수\"]) # 파이썬 개발자 집합"
   ]
  },
  {
   "cell_type": "code",
   "execution_count": 5,
   "id": "0b0eae7c",
   "metadata": {},
   "outputs": [
    {
     "name": "stdout",
     "output_type": "stream",
     "text": [
      "{'유재석'}\n",
      "{'유재석'}\n"
     ]
    }
   ],
   "source": [
    "# 교집합 (java 와 python 을 모두 할 수 있는 개발자)\n",
    "print(java & python) # {'유재석'}\n",
    "print(java.intersection(python)) # {'유재석'}"
   ]
  },
  {
   "cell_type": "code",
   "execution_count": 6,
   "id": "fc4366e8",
   "metadata": {},
   "outputs": [
    {
     "name": "stdout",
     "output_type": "stream",
     "text": [
      "{'박명수', '유재석', '양세형', '김태호'}\n",
      "{'박명수', '유재석', '양세형', '김태호'}\n"
     ]
    }
   ],
   "source": [
    "# 합집합 (java 또는 python 을 할 수 있는 개발자)\n",
    "print(java | python) # {'박명수', '유재석', '김태호', '양세형'}\n",
    "print(java.union(python)) # {'박명수', '유재석', '김태호', '양세형'}"
   ]
  },
  {
   "cell_type": "markdown",
   "id": "b07cb274",
   "metadata": {},
   "source": [
    "## 주의\n",
    "- 집합은 순서를 보장하지 않으므로 집합 내 데이터들의 출력 순서는 다음과 같이 실행할 때마다 달라질 수 있어요."
   ]
  },
  {
   "cell_type": "code",
   "execution_count": 7,
   "id": "89c5812f",
   "metadata": {},
   "outputs": [
    {
     "name": "stdout",
     "output_type": "stream",
     "text": [
      "{'양세형', '김태호'}\n",
      "{'양세형', '김태호'}\n"
     ]
    }
   ],
   "source": [
    "# 차집합 (java 는 할 수 있지만 python 은 할 줄 모르는 개발자)\n",
    "print(java - python) # {'양세형', '김태호'}\n",
    "print(java.difference(python)) # {'양세형', '김태호'}"
   ]
  },
  {
   "cell_type": "code",
   "execution_count": 8,
   "id": "b41a747f",
   "metadata": {},
   "outputs": [
    {
     "name": "stdout",
     "output_type": "stream",
     "text": [
      "{'유재석', '김태호', '박명수'}\n"
     ]
    }
   ],
   "source": [
    "# python 개발자 추가 (기존 개발자 : 박명수, 유재석)\n",
    "python.add(\"김태호\")\n",
    "print(python) # {'박명수', '유재석', '김태호'}"
   ]
  },
  {
   "cell_type": "code",
   "execution_count": 9,
   "id": "4b5e2b48",
   "metadata": {},
   "outputs": [
    {
     "name": "stdout",
     "output_type": "stream",
     "text": [
      "{'유재석', '양세형'}\n"
     ]
    }
   ],
   "source": [
    "# java 개발자 삭제 (기존 개발자 : 유재석, 김태호, 양세형)\n",
    "java.remove(\"김태호\")\n",
    "print(java) # {'유재석', '양세형'}:"
   ]
  },
  {
   "cell_type": "code",
   "execution_count": null,
   "id": "35973493",
   "metadata": {},
   "outputs": [],
   "source": []
  }
 ],
 "metadata": {
  "kernelspec": {
   "display_name": "Python 3 (ipykernel)",
   "language": "python",
   "name": "python3"
  },
  "language_info": {
   "codemirror_mode": {
    "name": "ipython",
    "version": 3
   },
   "file_extension": ".py",
   "mimetype": "text/x-python",
   "name": "python",
   "nbconvert_exporter": "python",
   "pygments_lexer": "ipython3",
   "version": "3.8.12"
  }
 },
 "nbformat": 4,
 "nbformat_minor": 5
}
