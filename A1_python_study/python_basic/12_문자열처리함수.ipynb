{
 "cells": [
  {
   "cell_type": "markdown",
   "id": "2d661cd5",
   "metadata": {},
   "source": [
    "- 문자열을 편리하게 다루기 위해 굉장히 많은 함수를 제공하고 있습니다"
   ]
  },
  {
   "cell_type": "markdown",
   "id": "861f6ae5",
   "metadata": {},
   "source": [
    "- lower : 소문자 변환\n",
    "- upper : 대문자 변환\n",
    "- isupper : 대문자인지 확인\n",
    "- islower : 소문자인지 확인\n",
    "- replace : 문자열 바꾸기\n",
    "- index : 찾을려는 문자열의 인덱스 (없으면 에러)\n",
    "- find : 찾을려고 하는 문자열의 인덱스 (없으면 -1)\n",
    "- count : 문자열이 나온 횟수"
   ]
  },
  {
   "cell_type": "code",
   "execution_count": 1,
   "id": "b0d6f831",
   "metadata": {},
   "outputs": [
    {
     "name": "stdout",
     "output_type": "stream",
     "text": [
      "python is amazing\n",
      "PYTHON IS AMAZING\n",
      "True\n",
      "17\n",
      "Java is Amazing\n"
     ]
    }
   ],
   "source": [
    "python = \"Python is Amazing\"\n",
    "\n",
    "print(python.lower()) # python is amazing\n",
    "print(python.upper()) # PYTHON IS AMAZING\n",
    "print(python[0].isupper()) # True : 0 번째 인덱스의 값이 대문자인지 확인\n",
    "print(len(python)) # 17 : 띄어쓰기를 포함한 문자열의 전체 길이 (length)\n",
    "print(python.replace(\"Python\", \"Java\")) # Java is Amazing"
   ]
  },
  {
   "cell_type": "code",
   "execution_count": 2,
   "id": "6201b7d4",
   "metadata": {},
   "outputs": [
    {
     "name": "stdout",
     "output_type": "stream",
     "text": [
      "5\n",
      "15\n",
      "5\n",
      "15\n"
     ]
    }
   ],
   "source": [
    "python = \"Python is Amazing\"\n",
    "\n",
    "index = python.index(\"n\") # 처음으로 발견된 n 의 인덱스\n",
    "print(index) # 5 : Python 의 n\n",
    "\n",
    "index = python.index(\"n\", index + 1) # 6 번째 인덱스 이후에 처음으로 발견된 n 의 인덱스 \n",
    "print(index) # 15 : Amazing 의 n\n",
    "\n",
    "find = python.find(\"n\") # 처음으로 발견된 n 의 인덱스\n",
    "print(find) # 5 : Python 의 n\n",
    "\n",
    "find = python.find(\"n\", find + 1) # 6 번째 인덱스 이후에 처음으로 발견된 n 의 인덱스 \n",
    "print(find) # 15 : Amazing 의 n"
   ]
  },
  {
   "cell_type": "markdown",
   "id": "29520d42",
   "metadata": {},
   "source": [
    "### index(), find() 차이"
   ]
  },
  {
   "cell_type": "code",
   "execution_count": null,
   "id": "08442a5a",
   "metadata": {},
   "outputs": [],
   "source": [
    "python = \"Python is Amazing\""
   ]
  },
  {
   "cell_type": "code",
   "execution_count": 4,
   "id": "9ed02614",
   "metadata": {
    "scrolled": true
   },
   "outputs": [
    {
     "ename": "ValueError",
     "evalue": "substring not found",
     "output_type": "error",
     "traceback": [
      "\u001b[0;31m---------------------------------------------------------------------------\u001b[0m",
      "\u001b[0;31mValueError\u001b[0m                                Traceback (most recent call last)",
      "\u001b[0;32m/var/folders/2r/_fr309ls60x8zpqkcdvzvn940000gn/T/ipykernel_72553/3252437901.py\u001b[0m in \u001b[0;36m<module>\u001b[0;34m\u001b[0m\n\u001b[0;32m----> 1\u001b[0;31m \u001b[0mprint\u001b[0m\u001b[0;34m(\u001b[0m\u001b[0mpython\u001b[0m\u001b[0;34m.\u001b[0m\u001b[0mindex\u001b[0m\u001b[0;34m(\u001b[0m\u001b[0;34m\"Java\"\u001b[0m\u001b[0;34m)\u001b[0m\u001b[0;34m)\u001b[0m \u001b[0;31m# Java 가 없기 때문에 에러가 발생하며 프로그램 종료\u001b[0m\u001b[0;34m\u001b[0m\u001b[0;34m\u001b[0m\u001b[0m\n\u001b[0m",
      "\u001b[0;31mValueError\u001b[0m: substring not found"
     ]
    }
   ],
   "source": [
    "print(python.index(\"Java\")) # Java 가 없기 때문에 에러가 발생하며 프로그램 종료"
   ]
  },
  {
   "cell_type": "code",
   "execution_count": 5,
   "id": "730fb083",
   "metadata": {},
   "outputs": [
    {
     "name": "stdout",
     "output_type": "stream",
     "text": [
      "-1\n"
     ]
    }
   ],
   "source": [
    "print(python.find(\"Java\")) # Java 가 없으면 -1 을 반환(출력)하며 프로그램 계속 수행"
   ]
  },
  {
   "cell_type": "markdown",
   "id": "5f1b9ab9",
   "metadata": {},
   "source": [
    "- 문자열이 총 몇 번 사용되었는지도 확인할 수 있습니다. 만약 사용되지 않았다면 결과는 0"
   ]
  },
  {
   "cell_type": "code",
   "execution_count": 6,
   "id": "bb307164",
   "metadata": {},
   "outputs": [
    {
     "name": "stdout",
     "output_type": "stream",
     "text": [
      "2\n"
     ]
    }
   ],
   "source": [
    "python = \"Python is Amazing\"\n",
    "print(python.count(\"n\")) # 2 : 문자열 내에서 n 이 나온 횟수"
   ]
  },
  {
   "cell_type": "code",
   "execution_count": 7,
   "id": "6855b06b",
   "metadata": {},
   "outputs": [
    {
     "data": {
      "text/plain": [
       "'Java is Amazing'"
      ]
     },
     "execution_count": 7,
     "metadata": {},
     "output_type": "execute_result"
    }
   ],
   "source": [
    "# replace \n",
    "python = \"Python is Amazing\"\n",
    "\n",
    "python.replace('Python', 'Java')"
   ]
  },
  {
   "cell_type": "code",
   "execution_count": null,
   "id": "0faca304",
   "metadata": {},
   "outputs": [],
   "source": []
  }
 ],
 "metadata": {
  "kernelspec": {
   "display_name": "Python 3 (ipykernel)",
   "language": "python",
   "name": "python3"
  },
  "language_info": {
   "codemirror_mode": {
    "name": "ipython",
    "version": 3
   },
   "file_extension": ".py",
   "mimetype": "text/x-python",
   "name": "python",
   "nbconvert_exporter": "python",
   "pygments_lexer": "ipython3",
   "version": "3.8.12"
  }
 },
 "nbformat": 4,
 "nbformat_minor": 5
}
