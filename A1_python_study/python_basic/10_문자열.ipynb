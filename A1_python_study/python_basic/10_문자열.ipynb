{
 "cells": [
  {
   "cell_type": "markdown",
   "id": "a6bc77c8",
   "metadata": {},
   "source": [
    "# 문자열 "
   ]
  },
  {
   "cell_type": "markdown",
   "id": "9370caf7",
   "metadata": {},
   "source": [
    "- 문자열이란 문자들의 집합을 의미합니다. \n",
    "- 파이썬에서는 작은 따옴표 또는 큰 따옴표로 감싸서 문자열임을 나타내는데요.\n",
    "- 다음 코드에서 작은 따옴표가 앞 뒤로 붙은 '나는 소년입니다' 부분이 문자열이 됩니다."
   ]
  },
  {
   "cell_type": "code",
   "execution_count": 5,
   "id": "457ec4eb",
   "metadata": {},
   "outputs": [
    {
     "name": "stdout",
     "output_type": "stream",
     "text": [
      "나는 마케터입니다\n"
     ]
    }
   ],
   "source": [
    "sentence1 = '나는 마케터입니다'\n",
    "print(sentence1) # 나는 마케터입니다"
   ]
  },
  {
   "cell_type": "code",
   "execution_count": 6,
   "id": "04f8dde4",
   "metadata": {},
   "outputs": [
    {
     "name": "stdout",
     "output_type": "stream",
     "text": [
      "파이썬은 쉬워요\n"
     ]
    }
   ],
   "source": [
    "sentence2 = \"파이썬은 쉬워요\"\n",
    "print(sentence2) # 파이썬은 쉬워요"
   ]
  },
  {
   "cell_type": "markdown",
   "id": "a299a12e",
   "metadata": {},
   "source": [
    "- 문자열은 한줄이 아닌 여러줄 걸쳐서 작성도 가능 "
   ]
  },
  {
   "cell_type": "code",
   "execution_count": 7,
   "id": "86bb913d",
   "metadata": {},
   "outputs": [
    {
     "name": "stdout",
     "output_type": "stream",
     "text": [
      "\n",
      "나는 마케터이고,\n",
      "파이썬은 쉬워요\n",
      "\n"
     ]
    }
   ],
   "source": [
    "sentence3 = \"\"\"\n",
    "나는 마케터이고,\n",
    "파이썬은 쉬워요\n",
    "\"\"\"\n",
    "print(sentence3) # 큰 따옴표 대신 작은 따옴표 3개씩으로 감싸도 돼요"
   ]
  },
  {
   "cell_type": "code",
   "execution_count": null,
   "id": "3a399f6d",
   "metadata": {},
   "outputs": [],
   "source": []
  }
 ],
 "metadata": {
  "kernelspec": {
   "display_name": "Python 3 (ipykernel)",
   "language": "python",
   "name": "python3"
  },
  "language_info": {
   "codemirror_mode": {
    "name": "ipython",
    "version": 3
   },
   "file_extension": ".py",
   "mimetype": "text/x-python",
   "name": "python",
   "nbconvert_exporter": "python",
   "pygments_lexer": "ipython3",
   "version": "3.8.12"
  }
 },
 "nbformat": 4,
 "nbformat_minor": 5
}
