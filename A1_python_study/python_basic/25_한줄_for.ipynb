{
 "cells": [
  {
   "cell_type": "code",
   "execution_count": 1,
   "id": "d84a22ec",
   "metadata": {},
   "outputs": [
    {
     "name": "stdout",
     "output_type": "stream",
     "text": [
      "[1, 2, 3, 4, 5]\n",
      "[101, 102, 103, 104, 105]\n"
     ]
    }
   ],
   "source": [
    "students = [1, 2, 3, 4, 5]\n",
    "print(students) # [1, 2, 3, 4, 5]\n",
    "\n",
    "# 한 줄 for 를 이용하여 각 항목에 100 을 더함\n",
    "students = [i + 100 for i in students]\n",
    "print(students) # [101, 102, 103, 104, 105]"
   ]
  },
  {
   "cell_type": "code",
   "execution_count": 2,
   "id": "43cf72a5",
   "metadata": {},
   "outputs": [
    {
     "name": "stdout",
     "output_type": "stream",
     "text": [
      "['Iron man', 'Thor', 'I am groot']\n",
      "[8, 4, 10]\n"
     ]
    }
   ],
   "source": [
    "students = [\"Iron man\", \"Thor\", \"I am groot\"]\n",
    "print(students) # [\"Iron man\", \"Thor\", \"I am groot\"]\n",
    "\n",
    "# 한 줄 for 를 이용하여 각 이름의 길이 정보로 변환\n",
    "students = [len(i) for i in students]\n",
    "print(students) # [8, 4, 10]"
   ]
  },
  {
   "cell_type": "code",
   "execution_count": 3,
   "id": "78492279",
   "metadata": {},
   "outputs": [
    {
     "name": "stdout",
     "output_type": "stream",
     "text": [
      "['Iron man', 'Thor', 'I am groot']\n",
      "['IRON MAN', 'THOR', 'I AM GROOT']\n"
     ]
    }
   ],
   "source": [
    "students = [\"Iron man\", \"Thor\", \"I am groot\"]\n",
    "print(students) # [\"Iron man\", \"Thor\", \"I am groot\"]\n",
    "\n",
    "# 한 줄 for 를 이용하여 각 이름을 대문자로 변경\n",
    "students = [i.upper() for i in students]\n",
    "print(students) # ['IRON MAN', 'THOR', 'I AM GROOT']"
   ]
  },
  {
   "cell_type": "code",
   "execution_count": null,
   "id": "3c57950f",
   "metadata": {},
   "outputs": [],
   "source": []
  }
 ],
 "metadata": {
  "kernelspec": {
   "display_name": "Python 3 (ipykernel)",
   "language": "python",
   "name": "python3"
  },
  "language_info": {
   "codemirror_mode": {
    "name": "ipython",
    "version": 3
   },
   "file_extension": ".py",
   "mimetype": "text/x-python",
   "name": "python",
   "nbconvert_exporter": "python",
   "pygments_lexer": "ipython3",
   "version": "3.9.13"
  }
 },
 "nbformat": 4,
 "nbformat_minor": 5
}
