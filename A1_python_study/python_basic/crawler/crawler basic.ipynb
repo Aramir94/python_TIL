{
 "cells": [
  {
   "cell_type": "code",
   "execution_count": 1,
   "id": "930730a7",
   "metadata": {
    "scrolled": true
   },
   "outputs": [
    {
     "name": "stdout",
     "output_type": "stream",
     "text": [
      "Requirement already satisfied: tqdm in /opt/homebrew/Caskroom/miniforge/base/lib/python3.9/site-packages (4.64.0)\n",
      "Collecting selenium\n",
      "  Downloading selenium-4.3.0-py3-none-any.whl (981 kB)\n",
      "     |████████████████████████████████| 981 kB 4.2 MB/s            \n",
      "\u001b[?25hCollecting trio-websocket~=0.9\n",
      "  Using cached trio_websocket-0.9.2-py3-none-any.whl (16 kB)\n",
      "Requirement already satisfied: urllib3[secure,socks]~=1.26 in /opt/homebrew/Caskroom/miniforge/base/lib/python3.9/site-packages (from selenium) (1.26.11)\n",
      "Collecting trio~=0.17\n",
      "  Downloading trio-0.21.0-py3-none-any.whl (358 kB)\n",
      "     |████████████████████████████████| 358 kB 28.6 MB/s            \n",
      "\u001b[?25hRequirement already satisfied: idna in /opt/homebrew/Caskroom/miniforge/base/lib/python3.9/site-packages (from trio~=0.17->selenium) (3.3)\n",
      "Collecting async-generator>=1.9\n",
      "  Using cached async_generator-1.10-py3-none-any.whl (18 kB)\n",
      "Collecting sortedcontainers\n",
      "  Using cached sortedcontainers-2.4.0-py2.py3-none-any.whl (29 kB)\n",
      "Requirement already satisfied: sniffio in /opt/homebrew/Caskroom/miniforge/base/lib/python3.9/site-packages (from trio~=0.17->selenium) (1.2.0)\n",
      "Requirement already satisfied: attrs>=19.2.0 in /opt/homebrew/Caskroom/miniforge/base/lib/python3.9/site-packages (from trio~=0.17->selenium) (21.4.0)\n",
      "Collecting outcome\n",
      "  Downloading outcome-1.2.0-py2.py3-none-any.whl (9.7 kB)\n",
      "Collecting wsproto>=0.14\n",
      "  Using cached wsproto-1.1.0-py3-none-any.whl (24 kB)\n",
      "Requirement already satisfied: PySocks!=1.5.7,<2.0,>=1.5.6 in /opt/homebrew/Caskroom/miniforge/base/lib/python3.9/site-packages (from urllib3[secure,socks]~=1.26->selenium) (1.7.1)\n",
      "Requirement already satisfied: certifi in /opt/homebrew/Caskroom/miniforge/base/lib/python3.9/site-packages (from urllib3[secure,socks]~=1.26->selenium) (2022.6.15)\n",
      "Requirement already satisfied: pyOpenSSL>=0.14 in /opt/homebrew/Caskroom/miniforge/base/lib/python3.9/site-packages (from urllib3[secure,socks]~=1.26->selenium) (22.0.0)\n",
      "Requirement already satisfied: cryptography>=1.3.4 in /opt/homebrew/Caskroom/miniforge/base/lib/python3.9/site-packages (from urllib3[secure,socks]~=1.26->selenium) (37.0.4)\n",
      "Requirement already satisfied: cffi>=1.12 in /opt/homebrew/Caskroom/miniforge/base/lib/python3.9/site-packages (from cryptography>=1.3.4->urllib3[secure,socks]~=1.26->selenium) (1.15.1)\n",
      "Requirement already satisfied: h11<1,>=0.9.0 in /opt/homebrew/Caskroom/miniforge/base/lib/python3.9/site-packages (from wsproto>=0.14->trio-websocket~=0.9->selenium) (0.13.0)\n",
      "Requirement already satisfied: pycparser in /opt/homebrew/Caskroom/miniforge/base/lib/python3.9/site-packages (from cffi>=1.12->cryptography>=1.3.4->urllib3[secure,socks]~=1.26->selenium) (2.21)\n",
      "Installing collected packages: sortedcontainers, outcome, async-generator, wsproto, trio, trio-websocket, selenium\n",
      "Successfully installed async-generator-1.10 outcome-1.2.0 selenium-4.3.0 sortedcontainers-2.4.0 trio-0.21.0 trio-websocket-0.9.2 wsproto-1.1.0\n",
      "Collecting webdriver_manager\n",
      "  Downloading webdriver_manager-3.8.3-py2.py3-none-any.whl (26 kB)\n",
      "Requirement already satisfied: python-dotenv in /opt/homebrew/Caskroom/miniforge/base/lib/python3.9/site-packages (from webdriver_manager) (0.20.0)\n",
      "Requirement already satisfied: tqdm in /opt/homebrew/Caskroom/miniforge/base/lib/python3.9/site-packages (from webdriver_manager) (4.64.0)\n",
      "Requirement already satisfied: requests in /opt/homebrew/Caskroom/miniforge/base/lib/python3.9/site-packages (from webdriver_manager) (2.28.1)\n",
      "Requirement already satisfied: idna<4,>=2.5 in /opt/homebrew/Caskroom/miniforge/base/lib/python3.9/site-packages (from requests->webdriver_manager) (3.3)\n",
      "Requirement already satisfied: certifi>=2017.4.17 in /opt/homebrew/Caskroom/miniforge/base/lib/python3.9/site-packages (from requests->webdriver_manager) (2022.6.15)\n",
      "Requirement already satisfied: charset-normalizer<3,>=2 in /opt/homebrew/Caskroom/miniforge/base/lib/python3.9/site-packages (from requests->webdriver_manager) (2.1.0)\n",
      "Requirement already satisfied: urllib3<1.27,>=1.21.1 in /opt/homebrew/Caskroom/miniforge/base/lib/python3.9/site-packages (from requests->webdriver_manager) (1.26.11)\n",
      "Installing collected packages: webdriver-manager\n",
      "Successfully installed webdriver-manager-3.8.3\n"
     ]
    }
   ],
   "source": [
    "!pip install tqdm\n",
    "!pip install selenium\n",
    "!pip install webdriver_manager"
   ]
  },
  {
   "cell_type": "code",
   "execution_count": 2,
   "id": "06bbabf5",
   "metadata": {},
   "outputs": [
    {
     "name": "stderr",
     "output_type": "stream",
     "text": [
      "\n",
      "\n",
      "====== WebDriver manager ======\n",
      "Current google-chrome version is 103.0.5060\n",
      "Get LATEST chromedriver version for 103.0.5060 google-chrome\n",
      "Driver [/Users/flycode77/.wdm/drivers/chromedriver/mac64_m1/103.0.5060.134/chromedriver] found in cache\n"
     ]
    }
   ],
   "source": [
    "import warnings\n",
    "warnings.simplefilter(\"ignore\")\n",
    "\n",
    "import time \n",
    "from tqdm import tqdm\n",
    "\n",
    "from selenium import webdriver\n",
    "from webdriver_manager.chrome import ChromeDriverManager\n",
    "\n",
    "options = webdriver.ChromeOptions()\n",
    "# options.add_argument('headless')\n",
    "options.add_argument('window-size=1920x1080')\n",
    "options.add_argument(\"disable-gpu\")\n",
    "# 혹은 options.add_argument(\"--disable-gpu\")\n",
    "\n",
    "\n",
    "driver = webdriver.Chrome(ChromeDriverManager().install(), \n",
    "                          options=options)\n",
    "\n",
    "# 까사미아 접속\n",
    "url = 'https://www.guud.com'\n",
    "driver.get(url)\n",
    "\n",
    "driver.implicitly_wait(5)"
   ]
  },
  {
   "cell_type": "code",
   "execution_count": 3,
   "id": "d59f7019",
   "metadata": {},
   "outputs": [
    {
     "data": {
      "text/plain": [
       "'소이소파 79만원 특가'"
      ]
     },
     "execution_count": 3,
     "metadata": {},
     "output_type": "execute_result"
    }
   ],
   "source": [
    "# WEEKLY HOT KEYWORD\n",
    "driver.find_element_by_xpath('/html/body/main/section[2]/div/ul/li[1]/a').text"
   ]
  },
  {
   "cell_type": "code",
   "execution_count": 6,
   "id": "a8b03ccb",
   "metadata": {},
   "outputs": [],
   "source": [
    "# WEEKLY HOT KEYWORD 여러개 가져오기 \n",
    "\n",
    "# 리스트로 가져옴\n",
    "keywords = driver.find_elements_by_xpath('/html/body/main/section[2]/div/ul/li/a')"
   ]
  },
  {
   "cell_type": "code",
   "execution_count": 11,
   "id": "49c06b81",
   "metadata": {},
   "outputs": [
    {
     "data": {
      "text/plain": [
       "['소이소파 79만원 특가',\n",
       " '관리가 편한 세라믹식탁, 래디쉬우드 반값!',\n",
       " '경추베개',\n",
       " '힐링스팟 리클라이너',\n",
       " '해바라기 그림',\n",
       " '승리의 지름길',\n",
       " '꿀잠예약',\n",
       " '1인 소파']"
      ]
     },
     "execution_count": 11,
     "metadata": {},
     "output_type": "execute_result"
    }
   ],
   "source": [
    "my_keyword = []\n",
    "for i in keywords:\n",
    "    my_keyword.append(i.text)\n",
    "\n",
    "# my_keyword = [i.text for i in keywords]\n",
    "my_keyword"
   ]
  },
  {
   "cell_type": "code",
   "execution_count": 13,
   "id": "c925428f",
   "metadata": {},
   "outputs": [
    {
     "data": {
      "text/plain": [
       "'[올라카일리] 도자기 화병 꽃병 스몰 달팽이 옐로우'"
      ]
     },
     "execution_count": 13,
     "metadata": {},
     "output_type": "execute_result"
    }
   ],
   "source": [
    "# hotdeal 가져와보자 \n",
    "driver.find_element_by_xpath('/html/body/main/section[7]/div/div[1]/div[1]/p/a').text"
   ]
  },
  {
   "cell_type": "code",
   "execution_count": 17,
   "id": "4481c304",
   "metadata": {},
   "outputs": [
    {
     "data": {
      "text/plain": [
       "'49,000 46,550 5%'"
      ]
     },
     "execution_count": 17,
     "metadata": {},
     "output_type": "execute_result"
    }
   ],
   "source": [
    "driver.find_element_by_xpath('/html/body/main/section[7]/div/div[1]/div[1]/div/strong').text"
   ]
  },
  {
   "cell_type": "code",
   "execution_count": 18,
   "id": "3b978360",
   "metadata": {},
   "outputs": [
    {
     "data": {
      "text/plain": [
       "'5%'"
      ]
     },
     "execution_count": 18,
     "metadata": {},
     "output_type": "execute_result"
    }
   ],
   "source": [
    "driver.find_element_by_xpath('/html/body/main/section[7]/div/div[1]/div[1]/div/strong/em').text"
   ]
  },
  {
   "cell_type": "code",
   "execution_count": 20,
   "id": "ba16b3b7",
   "metadata": {},
   "outputs": [
    {
     "data": {
      "text/plain": [
       "''"
      ]
     },
     "execution_count": 20,
     "metadata": {},
     "output_type": "execute_result"
    }
   ],
   "source": [
    "driver.find_element_by_xpath('/html/body/main/section[7]/div/div[1]/div[1]/div/button').text"
   ]
  },
  {
   "cell_type": "code",
   "execution_count": 21,
   "id": "2ec7afbe",
   "metadata": {},
   "outputs": [
    {
     "data": {
      "text/plain": [
       "'168915'"
      ]
     },
     "execution_count": 21,
     "metadata": {},
     "output_type": "execute_result"
    }
   ],
   "source": [
    "driver.find_element_by_xpath('/html/body/main/section[7]/div/div[1]/div[1]/div/button').get_attribute('data-itemid')"
   ]
  },
  {
   "cell_type": "code",
   "execution_count": 23,
   "id": "37763391",
   "metadata": {},
   "outputs": [
    {
     "data": {
      "text/plain": [
       "\"javascript:common_new.goGoodsDetail('168915');\""
      ]
     },
     "execution_count": 23,
     "metadata": {},
     "output_type": "execute_result"
    }
   ],
   "source": [
    "driver.find_element_by_xpath('/html/body/main/section[7]/div/div[1]/div[1]/span[1]/a').get_attribute('href')"
   ]
  },
  {
   "cell_type": "code",
   "execution_count": 26,
   "id": "32d27626",
   "metadata": {},
   "outputs": [],
   "source": [
    "driver.find_element_by_xpath('/html/body/main/section[7]/div/div[1]/div[1]').click()"
   ]
  },
  {
   "cell_type": "code",
   "execution_count": 27,
   "id": "a34d1212",
   "metadata": {},
   "outputs": [
    {
     "data": {
      "text/plain": [
       "'http://www.guud.com/shop/goodsView?itemId=168915'"
      ]
     },
     "execution_count": 27,
     "metadata": {},
     "output_type": "execute_result"
    }
   ],
   "source": [
    "driver.current_url"
   ]
  },
  {
   "cell_type": "code",
   "execution_count": 29,
   "id": "a94f212e",
   "metadata": {},
   "outputs": [],
   "source": [
    "driver.back()"
   ]
  },
  {
   "cell_type": "code",
   "execution_count": 31,
   "id": "738e1ab1",
   "metadata": {},
   "outputs": [],
   "source": [
    "temp_url = 'http://www.guud.com/shop/goodsView?itemId=168915'"
   ]
  },
  {
   "cell_type": "code",
   "execution_count": 35,
   "id": "00177249",
   "metadata": {},
   "outputs": [
    {
     "data": {
      "text/plain": [
       "['http://www.guud.com/shop/goodsView?itemId', '168915']"
      ]
     },
     "execution_count": 35,
     "metadata": {},
     "output_type": "execute_result"
    }
   ],
   "source": [
    "temp_url.split('=')"
   ]
  },
  {
   "cell_type": "code",
   "execution_count": 36,
   "id": "c05cfd88",
   "metadata": {},
   "outputs": [
    {
     "data": {
      "text/plain": [
       "'168915'"
      ]
     },
     "execution_count": 36,
     "metadata": {},
     "output_type": "execute_result"
    }
   ],
   "source": [
    "temp_url.split('=')[1]"
   ]
  },
  {
   "cell_type": "code",
   "execution_count": 38,
   "id": "7a82d507",
   "metadata": {},
   "outputs": [],
   "source": [
    "# 스크롤 다운 시키기 \n",
    "driver.execute_script(\"window.scrollTo(0, 3000)\") \n"
   ]
  },
  {
   "cell_type": "markdown",
   "id": "06eb5b8a",
   "metadata": {},
   "source": [
    "# pandas 라는 친구 사용 -> 엑셀화 시키기 "
   ]
  },
  {
   "cell_type": "code",
   "execution_count": 39,
   "id": "57a2ab2a",
   "metadata": {},
   "outputs": [
    {
     "data": {
      "text/plain": [
       "['소이소파 79만원 특가',\n",
       " '관리가 편한 세라믹식탁, 래디쉬우드 반값!',\n",
       " '경추베개',\n",
       " '힐링스팟 리클라이너',\n",
       " '해바라기 그림',\n",
       " '승리의 지름길',\n",
       " '꿀잠예약',\n",
       " '1인 소파']"
      ]
     },
     "execution_count": 39,
     "metadata": {},
     "output_type": "execute_result"
    }
   ],
   "source": [
    "my_keyword"
   ]
  },
  {
   "cell_type": "code",
   "execution_count": 40,
   "id": "83a96615",
   "metadata": {},
   "outputs": [],
   "source": [
    "import pandas as pd"
   ]
  },
  {
   "cell_type": "code",
   "execution_count": 41,
   "id": "8dd01817",
   "metadata": {},
   "outputs": [
    {
     "data": {
      "text/html": [
       "<div>\n",
       "<style scoped>\n",
       "    .dataframe tbody tr th:only-of-type {\n",
       "        vertical-align: middle;\n",
       "    }\n",
       "\n",
       "    .dataframe tbody tr th {\n",
       "        vertical-align: top;\n",
       "    }\n",
       "\n",
       "    .dataframe thead th {\n",
       "        text-align: right;\n",
       "    }\n",
       "</style>\n",
       "<table border=\"1\" class=\"dataframe\">\n",
       "  <thead>\n",
       "    <tr style=\"text-align: right;\">\n",
       "      <th></th>\n",
       "      <th>0</th>\n",
       "    </tr>\n",
       "  </thead>\n",
       "  <tbody>\n",
       "    <tr>\n",
       "      <th>0</th>\n",
       "      <td>소이소파 79만원 특가</td>\n",
       "    </tr>\n",
       "    <tr>\n",
       "      <th>1</th>\n",
       "      <td>관리가 편한 세라믹식탁, 래디쉬우드 반값!</td>\n",
       "    </tr>\n",
       "    <tr>\n",
       "      <th>2</th>\n",
       "      <td>경추베개</td>\n",
       "    </tr>\n",
       "    <tr>\n",
       "      <th>3</th>\n",
       "      <td>힐링스팟 리클라이너</td>\n",
       "    </tr>\n",
       "    <tr>\n",
       "      <th>4</th>\n",
       "      <td>해바라기 그림</td>\n",
       "    </tr>\n",
       "    <tr>\n",
       "      <th>5</th>\n",
       "      <td>승리의 지름길</td>\n",
       "    </tr>\n",
       "    <tr>\n",
       "      <th>6</th>\n",
       "      <td>꿀잠예약</td>\n",
       "    </tr>\n",
       "    <tr>\n",
       "      <th>7</th>\n",
       "      <td>1인 소파</td>\n",
       "    </tr>\n",
       "  </tbody>\n",
       "</table>\n",
       "</div>"
      ],
      "text/plain": [
       "                         0\n",
       "0             소이소파 79만원 특가\n",
       "1  관리가 편한 세라믹식탁, 래디쉬우드 반값!\n",
       "2                     경추베개\n",
       "3               힐링스팟 리클라이너\n",
       "4                  해바라기 그림\n",
       "5                  승리의 지름길\n",
       "6                     꿀잠예약\n",
       "7                    1인 소파"
      ]
     },
     "execution_count": 41,
     "metadata": {},
     "output_type": "execute_result"
    }
   ],
   "source": [
    "pd.DataFrame(my_keyword)"
   ]
  },
  {
   "cell_type": "code",
   "execution_count": 42,
   "id": "0582104b",
   "metadata": {},
   "outputs": [],
   "source": [
    "data = pd.DataFrame(my_keyword)"
   ]
  },
  {
   "cell_type": "code",
   "execution_count": 45,
   "id": "e46db346",
   "metadata": {},
   "outputs": [],
   "source": [
    "data.columns = ['hot_keyword']"
   ]
  },
  {
   "cell_type": "code",
   "execution_count": 46,
   "id": "63b044bb",
   "metadata": {},
   "outputs": [
    {
     "data": {
      "text/html": [
       "<div>\n",
       "<style scoped>\n",
       "    .dataframe tbody tr th:only-of-type {\n",
       "        vertical-align: middle;\n",
       "    }\n",
       "\n",
       "    .dataframe tbody tr th {\n",
       "        vertical-align: top;\n",
       "    }\n",
       "\n",
       "    .dataframe thead th {\n",
       "        text-align: right;\n",
       "    }\n",
       "</style>\n",
       "<table border=\"1\" class=\"dataframe\">\n",
       "  <thead>\n",
       "    <tr style=\"text-align: right;\">\n",
       "      <th></th>\n",
       "      <th>hot_keyword</th>\n",
       "    </tr>\n",
       "  </thead>\n",
       "  <tbody>\n",
       "    <tr>\n",
       "      <th>0</th>\n",
       "      <td>소이소파 79만원 특가</td>\n",
       "    </tr>\n",
       "    <tr>\n",
       "      <th>1</th>\n",
       "      <td>관리가 편한 세라믹식탁, 래디쉬우드 반값!</td>\n",
       "    </tr>\n",
       "    <tr>\n",
       "      <th>2</th>\n",
       "      <td>경추베개</td>\n",
       "    </tr>\n",
       "    <tr>\n",
       "      <th>3</th>\n",
       "      <td>힐링스팟 리클라이너</td>\n",
       "    </tr>\n",
       "    <tr>\n",
       "      <th>4</th>\n",
       "      <td>해바라기 그림</td>\n",
       "    </tr>\n",
       "    <tr>\n",
       "      <th>5</th>\n",
       "      <td>승리의 지름길</td>\n",
       "    </tr>\n",
       "    <tr>\n",
       "      <th>6</th>\n",
       "      <td>꿀잠예약</td>\n",
       "    </tr>\n",
       "    <tr>\n",
       "      <th>7</th>\n",
       "      <td>1인 소파</td>\n",
       "    </tr>\n",
       "  </tbody>\n",
       "</table>\n",
       "</div>"
      ],
      "text/plain": [
       "               hot_keyword\n",
       "0             소이소파 79만원 특가\n",
       "1  관리가 편한 세라믹식탁, 래디쉬우드 반값!\n",
       "2                     경추베개\n",
       "3               힐링스팟 리클라이너\n",
       "4                  해바라기 그림\n",
       "5                  승리의 지름길\n",
       "6                     꿀잠예약\n",
       "7                    1인 소파"
      ]
     },
     "execution_count": 46,
     "metadata": {},
     "output_type": "execute_result"
    }
   ],
   "source": [
    "data"
   ]
  },
  {
   "cell_type": "code",
   "execution_count": 48,
   "id": "7614949d",
   "metadata": {},
   "outputs": [],
   "source": [
    "data.to_excel('hot_keyword.xlsx', index=False)"
   ]
  },
  {
   "cell_type": "markdown",
   "id": "a55b3818",
   "metadata": {},
   "source": [
    "# 같이 해보는 BEST BRAND 크롤링"
   ]
  },
  {
   "cell_type": "code",
   "execution_count": 51,
   "id": "40a37e72",
   "metadata": {},
   "outputs": [
    {
     "data": {
      "text/plain": [
       "'소프라움'"
      ]
     },
     "execution_count": 51,
     "metadata": {},
     "output_type": "execute_result"
    }
   ],
   "source": [
    "driver.find_element_by_xpath('/html/body/main/section[12]/div[1]/div[1]/ul/li[1]').text"
   ]
  },
  {
   "cell_type": "code",
   "execution_count": 52,
   "id": "2dafff1c",
   "metadata": {},
   "outputs": [],
   "source": [
    "a = '소프라움'"
   ]
  },
  {
   "cell_type": "code",
   "execution_count": 53,
   "id": "d3400be5",
   "metadata": {},
   "outputs": [],
   "source": [
    "b = [1,2,3]"
   ]
  },
  {
   "cell_type": "code",
   "execution_count": null,
   "id": "859da867",
   "metadata": {},
   "outputs": [],
   "source": []
  }
 ],
 "metadata": {
  "kernelspec": {
   "display_name": "tensor",
   "language": "python",
   "name": "tensor"
  },
  "language_info": {
   "codemirror_mode": {
    "name": "ipython",
    "version": 3
   },
   "file_extension": ".py",
   "mimetype": "text/x-python",
   "name": "python",
   "nbconvert_exporter": "python",
   "pygments_lexer": "ipython3",
   "version": "3.8.12"
  }
 },
 "nbformat": 4,
 "nbformat_minor": 5
}
