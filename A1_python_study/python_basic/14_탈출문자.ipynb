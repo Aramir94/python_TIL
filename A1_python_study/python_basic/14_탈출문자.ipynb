{
 "cells": [
  {
   "cell_type": "markdown",
   "id": "bfbe5e0a",
   "metadata": {},
   "source": [
    "# 탈출문자 \n",
    "- 탈출문자는 역슬래시(\\)와 함께 어떤 문자를 사용함으로써 문장 내에서 원하는 값을 처리할 수가 있어요."
   ]
  },
  {
   "cell_type": "code",
   "execution_count": 1,
   "id": "038945e4",
   "metadata": {},
   "outputs": [
    {
     "name": "stdout",
     "output_type": "stream",
     "text": [
      "백문이 불여일견 백견이 불여일타\n"
     ]
    }
   ],
   "source": [
    "print(\"백문이 불여일견 백견이 불여일타\")"
   ]
  },
  {
   "cell_type": "code",
   "execution_count": 2,
   "id": "ad54f48a",
   "metadata": {},
   "outputs": [
    {
     "ename": "SyntaxError",
     "evalue": "EOL while scanning string literal (789371832.py, line 1)",
     "output_type": "error",
     "traceback": [
      "\u001b[0;36m  File \u001b[0;32m\"/var/folders/2r/_fr309ls60x8zpqkcdvzvn940000gn/T/ipykernel_72697/789371832.py\"\u001b[0;36m, line \u001b[0;32m1\u001b[0m\n\u001b[0;31m    print(\"백문이 불여일견\u001b[0m\n\u001b[0m                   ^\u001b[0m\n\u001b[0;31mSyntaxError\u001b[0m\u001b[0;31m:\u001b[0m EOL while scanning string literal\n"
     ]
    }
   ],
   "source": [
    "print(\"백문이 불여일견\n",
    "백견이 불여일타\")"
   ]
  },
  {
   "cell_type": "code",
   "execution_count": 3,
   "id": "d822e336",
   "metadata": {},
   "outputs": [
    {
     "name": "stdout",
     "output_type": "stream",
     "text": [
      "백문이 불여일견\n",
      "백견이 불여일타\n"
     ]
    }
   ],
   "source": [
    "print(\"백문이 불여일견\\n백견이 불여일타\")"
   ]
  },
  {
   "cell_type": "code",
   "execution_count": 6,
   "id": "c437d643",
   "metadata": {},
   "outputs": [
    {
     "name": "stdout",
     "output_type": "stream",
     "text": [
      "저는 '데이터'입니다.\n"
     ]
    }
   ],
   "source": [
    "print(\"저는 '데이터'입니다.\") # 저는 '데이터'입니다."
   ]
  },
  {
   "cell_type": "code",
   "execution_count": 8,
   "id": "779512a1",
   "metadata": {},
   "outputs": [
    {
     "name": "stdout",
     "output_type": "stream",
     "text": [
      "저는 '데이터'입니다.\n"
     ]
    }
   ],
   "source": [
    "print('저는 \"데이터\"입니다.') # 저는 \"데이터\"입니다."
   ]
  },
  {
   "cell_type": "code",
   "execution_count": null,
   "id": "fcdbaa38",
   "metadata": {},
   "outputs": [],
   "source": []
  }
 ],
 "metadata": {
  "kernelspec": {
   "display_name": "Python 3 (ipykernel)",
   "language": "python",
   "name": "python3"
  },
  "language_info": {
   "codemirror_mode": {
    "name": "ipython",
    "version": 3
   },
   "file_extension": ".py",
   "mimetype": "text/x-python",
   "name": "python",
   "nbconvert_exporter": "python",
   "pygments_lexer": "ipython3",
   "version": "3.8.12"
  }
 },
 "nbformat": 4,
 "nbformat_minor": 5
}
