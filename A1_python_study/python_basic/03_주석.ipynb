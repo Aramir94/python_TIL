{
 "cells": [
  {
   "cell_type": "markdown",
   "id": "8dacf7aa",
   "metadata": {},
   "source": [
    "# 코드를 설명하는 쪽지 같은 개념 주석"
   ]
  },
  {
   "cell_type": "code",
   "execution_count": 2,
   "id": "866268e1",
   "metadata": {},
   "outputs": [
    {
     "name": "stdout",
     "output_type": "stream",
     "text": [
      "우리집 강아지의 이름은 연탄이에요\n",
      "연탄이는 4살이며, 산책을 아주 좋아해요\n",
      "연탄이는 어른일까요? True\n"
     ]
    }
   ],
   "source": [
    "print(\"우리집 강아지의 이름은 연탄이에요\") # 이름 소개\n",
    "print(\"연탄이는 4살이며, 산책을 아주 좋아해요\") # 나이, 취미 소개\n",
    "print(\"연탄이는 어른일까요? True\") # 어른인지 여부 확인"
   ]
  },
  {
   "cell_type": "code",
   "execution_count": null,
   "id": "64aee79e",
   "metadata": {},
   "outputs": [],
   "source": []
  }
 ],
 "metadata": {
  "kernelspec": {
   "display_name": "Python 3 (ipykernel)",
   "language": "python",
   "name": "python3"
  },
  "language_info": {
   "codemirror_mode": {
    "name": "ipython",
    "version": 3
   },
   "file_extension": ".py",
   "mimetype": "text/x-python",
   "name": "python",
   "nbconvert_exporter": "python",
   "pygments_lexer": "ipython3",
   "version": "3.8.12"
  }
 },
 "nbformat": 4,
 "nbformat_minor": 5
}
