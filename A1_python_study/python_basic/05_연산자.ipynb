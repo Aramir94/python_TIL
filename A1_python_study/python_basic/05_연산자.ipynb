{
 "cells": [
  {
   "cell_type": "markdown",
   "id": "e0fbc99d",
   "metadata": {},
   "source": [
    "# 더하기, 빼기, 곱하기, 나누기 연산"
   ]
  },
  {
   "cell_type": "code",
   "execution_count": 2,
   "id": "8f07eca3",
   "metadata": {},
   "outputs": [
    {
     "name": "stdout",
     "output_type": "stream",
     "text": [
      "2\n",
      "1\n",
      "10\n",
      "2.0\n"
     ]
    }
   ],
   "source": [
    "print(1 + 1) # 2\n",
    "print(3 - 2) # 1\n",
    "print(5 * 2) # 10\n",
    "print(6 / 3) # 2.0"
   ]
  },
  {
   "cell_type": "code",
   "execution_count": 3,
   "id": "a6e0ac80",
   "metadata": {},
   "outputs": [
    {
     "name": "stdout",
     "output_type": "stream",
     "text": [
      "8\n",
      "2\n",
      "1\n",
      "1\n",
      "3\n"
     ]
    }
   ],
   "source": [
    "print(2 ** 3) # 2의 3제곱 = 2^3 = 8\n",
    "print(5 % 3) # 5를 3으로 나눈 나머지 = 2\n",
    "print(10 % 3) # 10을 3으로 나눈 나머지 = 1\n",
    "print(5 // 3) # 5를 3으로 나눈 몫 = 1\n",
    "print(10 // 3) # 10을 3으로 나눈 몫 = 3"
   ]
  },
  {
   "cell_type": "code",
   "execution_count": 4,
   "id": "a705ce6b",
   "metadata": {},
   "outputs": [
    {
     "name": "stdout",
     "output_type": "stream",
     "text": [
      "True\n",
      "False\n",
      "False\n",
      "True\n"
     ]
    }
   ],
   "source": [
    "print(10 > 3) # True\n",
    "print(4 >= 7) # False\n",
    "print(10 < 3) # False\n",
    "print(5 <= 5) # True\n"
   ]
  },
  {
   "cell_type": "code",
   "execution_count": 5,
   "id": "f0ede50b",
   "metadata": {},
   "outputs": [
    {
     "name": "stdout",
     "output_type": "stream",
     "text": [
      "True\n",
      "False\n",
      "True\n",
      "True\n"
     ]
    }
   ],
   "source": [
    "# 좌항과 우항이 같은지 비교\n",
    "print(3 == 3) # 같으므로 True\n",
    "print(4 == 2) # 다르므로 False\n",
    "print(3 + 4 == 7) # 같으므로 True\n",
    "\n",
    "# 좌항과 우항이 다른지 비교\n",
    "print(1 != 3) # 다르므로 True"
   ]
  },
  {
   "cell_type": "code",
   "execution_count": 6,
   "id": "e0800d19",
   "metadata": {},
   "outputs": [
    {
     "name": "stdout",
     "output_type": "stream",
     "text": [
      "False\n",
      "True\n",
      "False\n"
     ]
    }
   ],
   "source": [
    "# 좌항과 우항이 모두 참인가?\n",
    "print((3 > 0) and (3 > 5)) # 좌항(3 > 0) 은 참이지만 우항(3 > 5) 는 거짓이므로 False \n",
    "\n",
    "# 좌항 또는 우항 중 하나라도 참인가?\n",
    "print((3 > 0) or (3 > 5)) # 좌항(3 > 0) 이 참이므로 우항(3 > 5) 이 거짓이라도 True\n",
    "\n",
    "# 좌항과 우항이 다른지 비교한 결과의 반대\n",
    "print(not(1 != 3)) # 1과 3은 다르므로 True 인데, True 의 반대이므로 False\n"
   ]
  },
  {
   "cell_type": "code",
   "execution_count": 7,
   "id": "db5c4d41",
   "metadata": {},
   "outputs": [
    {
     "name": "stdout",
     "output_type": "stream",
     "text": [
      "True\n",
      "False\n"
     ]
    }
   ],
   "source": [
    "print(5 > 4 > 3) # (5 > 4) 도 참이며 (4 > 3) 도 참이므로 True\n",
    "print(5 > 4 > 7) # (5 > 4) 는 참이지만 (4 > 7) 은 거짓이므로 False\n"
   ]
  },
  {
   "cell_type": "markdown",
   "id": "6066d812",
   "metadata": {},
   "source": [
    "- a > b > c 연산은 a > b and b > c 연산과 동일하게 동작합니다. \n",
    "- a > b 가 거짓이라면 이후의 수식 결과와 상관 없이 항상 거짓이 되므로\n",
    "- b > c 연산은 수행하지 않게 됩니다."
   ]
  },
  {
   "cell_type": "code",
   "execution_count": null,
   "id": "39a8e4fc",
   "metadata": {},
   "outputs": [],
   "source": []
  }
 ],
 "metadata": {
  "kernelspec": {
   "display_name": "Python 3 (ipykernel)",
   "language": "python",
   "name": "python3"
  },
  "language_info": {
   "codemirror_mode": {
    "name": "ipython",
    "version": 3
   },
   "file_extension": ".py",
   "mimetype": "text/x-python",
   "name": "python",
   "nbconvert_exporter": "python",
   "pygments_lexer": "ipython3",
   "version": "3.8.12"
  }
 },
 "nbformat": 4,
 "nbformat_minor": 5
}
