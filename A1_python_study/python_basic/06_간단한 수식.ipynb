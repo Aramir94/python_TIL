{
 "cells": [
  {
   "cell_type": "code",
   "execution_count": 1,
   "id": "812f616d",
   "metadata": {},
   "outputs": [
    {
     "name": "stdout",
     "output_type": "stream",
     "text": [
      "14\n",
      "20\n"
     ]
    }
   ],
   "source": [
    "print(2 + 3 * 4) # 14\n",
    "print((2 + 3) * 4) # 20"
   ]
  },
  {
   "cell_type": "code",
   "execution_count": 2,
   "id": "a59936c4",
   "metadata": {},
   "outputs": [
    {
     "name": "stdout",
     "output_type": "stream",
     "text": [
      "14\n"
     ]
    }
   ],
   "source": [
    "number = 2 + 3 * 4 # 14\n",
    "print(number)"
   ]
  },
  {
   "cell_type": "code",
   "execution_count": 3,
   "id": "8deab893",
   "metadata": {},
   "outputs": [
    {
     "name": "stdout",
     "output_type": "stream",
     "text": [
      "16\n"
     ]
    }
   ],
   "source": [
    "number = number + 2 # 16\n",
    "print(number)"
   ]
  },
  {
   "cell_type": "code",
   "execution_count": 4,
   "id": "1264efa3",
   "metadata": {},
   "outputs": [
    {
     "name": "stdout",
     "output_type": "stream",
     "text": [
      "18\n"
     ]
    }
   ],
   "source": [
    "number += 2 # number = number + 2 와 동일\n",
    "print(number) # 18\n"
   ]
  },
  {
   "cell_type": "code",
   "execution_count": 5,
   "id": "8f991949",
   "metadata": {},
   "outputs": [
    {
     "name": "stdout",
     "output_type": "stream",
     "text": [
      "36\n",
      "18.0\n",
      "16.0\n",
      "0.0\n"
     ]
    }
   ],
   "source": [
    "number *= 2 # number = number * 2 와 동일\n",
    "print(number) # 36\n",
    "\n",
    "number /= 2 # number = number / 2 와 동일\n",
    "print(number) # 18\n",
    "\n",
    "number -= 2 # number = number - 2 와 동일\n",
    "print(number) # 16\n",
    "\n",
    "number %= 2 # number = number % 2 와 동일\n",
    "print(number) # 0"
   ]
  },
  {
   "cell_type": "code",
   "execution_count": null,
   "id": "2850e013",
   "metadata": {},
   "outputs": [],
   "source": []
  }
 ],
 "metadata": {
  "kernelspec": {
   "display_name": "Python 3 (ipykernel)",
   "language": "python",
   "name": "python3"
  },
  "language_info": {
   "codemirror_mode": {
    "name": "ipython",
    "version": 3
   },
   "file_extension": ".py",
   "mimetype": "text/x-python",
   "name": "python",
   "nbconvert_exporter": "python",
   "pygments_lexer": "ipython3",
   "version": "3.8.12"
  }
 },
 "nbformat": 4,
 "nbformat_minor": 5
}
