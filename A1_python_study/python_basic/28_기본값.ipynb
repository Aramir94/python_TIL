{
 "cells": [
  {
   "cell_type": "code",
   "execution_count": 1,
   "id": "3b6a3ac5",
   "metadata": {},
   "outputs": [
    {
     "name": "stdout",
     "output_type": "stream",
     "text": [
      "이름 : 유재석\t나이 : 20\t주 사용 언어 : 파이썬\n",
      "이름 : 김태호\t나이 : 25\t주 사용 언어 : 자바\n"
     ]
    }
   ],
   "source": [
    "def profile(name, age, main_lang):\n",
    "    print(\"이름 : {0}\\t나이 : {1}\\t주 사용 언어 : {2}\".format(name, age, main_lang))\n",
    "    \n",
    "profile(\"유재석\", 20, \"파이썬\") # 유재석씨(20세)의 주 사용 언어는 파이썬\n",
    "profile(\"김태호\", 25, \"자바\") # 김태호씨(25세)의 주 사용 언어는 자바"
   ]
  },
  {
   "cell_type": "code",
   "execution_count": 2,
   "id": "319fcbff",
   "metadata": {},
   "outputs": [
    {
     "name": "stdout",
     "output_type": "stream",
     "text": [
      "이름 : 유재석\t나이 : 17\t주 사용 언어 : 파이썬\n",
      "이름 : 김태호\t나이 : 17\t주 사용 언어 : 파이썬\n"
     ]
    }
   ],
   "source": [
    "def profile(name, age=17, main_lang=\"파이썬\"): # 전달값을 따로 받지 않을때 기본으로 사용할 값\n",
    "    print(\"이름 : {0}\\t나이 : {1}\\t주 사용 언어 : {2}\".format(name, age, main_lang))\n",
    "        \n",
    "profile(\"유재석\")\n",
    "profile(\"김태호\")"
   ]
  },
  {
   "cell_type": "code",
   "execution_count": null,
   "id": "e9ae048c",
   "metadata": {},
   "outputs": [],
   "source": []
  }
 ],
 "metadata": {
  "kernelspec": {
   "display_name": "Python 3 (ipykernel)",
   "language": "python",
   "name": "python3"
  },
  "language_info": {
   "codemirror_mode": {
    "name": "ipython",
    "version": 3
   },
   "file_extension": ".py",
   "mimetype": "text/x-python",
   "name": "python",
   "nbconvert_exporter": "python",
   "pygments_lexer": "ipython3",
   "version": "3.9.13"
  }
 },
 "nbformat": 4,
 "nbformat_minor": 5
}
