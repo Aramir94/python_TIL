{
 "cells": [
  {
   "cell_type": "markdown",
   "id": "fba5e1fd",
   "metadata": {},
   "source": [
    "# 자료형 \n",
    "- 자료의 형태를 의미 \n",
    "- 1,2,3 같은 숫자\n",
    "- \"생일\", \"케이크\" 같은 문자열\n",
    "- True, False 를 의미한 boolean"
   ]
  },
  {
   "cell_type": "markdown",
   "id": "cdf29d70",
   "metadata": {},
   "source": [
    "# 숫자 자료형"
   ]
  },
  {
   "cell_type": "markdown",
   "id": "ed1a08f9",
   "metadata": {},
   "source": [
    "- 정수, 실수 같은 형태의 자료를 숫자 자료형\n",
    "- 사칙연산 및 모든 수 계산 가능"
   ]
  },
  {
   "cell_type": "code",
   "execution_count": 14,
   "id": "e8856368",
   "metadata": {
    "scrolled": false
   },
   "outputs": [
    {
     "name": "stdout",
     "output_type": "stream",
     "text": [
      "1\n",
      "3.14\n",
      "-10\n",
      "7\n",
      "16\n",
      "12\n",
      "0.75\n",
      "0\n",
      "3\n"
     ]
    }
   ],
   "source": [
    "print(1)\n",
    "print(3.14)\n",
    "print(-10)\n",
    "print(5+2)\n",
    "print(2*8)\n",
    "print(3*(3+1)) # 곱하기는 '*'\n",
    "print(3/(3+1)) # 나누기는 '/'\n",
    "print(3//(3+1)) # // 는 몫\n",
    "print(3%(3+1)) # %는 나머지"
   ]
  },
  {
   "cell_type": "markdown",
   "id": "c3ce0f34",
   "metadata": {},
   "source": [
    "# 문자열 자료형"
   ]
  },
  {
   "cell_type": "markdown",
   "id": "09dfeddc",
   "metadata": {},
   "source": [
    "- 자료형에는 문자열 형태도 존재\n",
    "- 파이썬에서 문자열을 사용하기 위해 큰 따옴표 or 작은 따옴표로 감싸준다 "
   ]
  },
  {
   "cell_type": "code",
   "execution_count": 13,
   "id": "8632b459",
   "metadata": {},
   "outputs": [
    {
     "name": "stdout",
     "output_type": "stream",
     "text": [
      "풍선\n",
      "나비\n",
      "ㅋㅋㅋㅋㅋㅋㅋㅋㅋ\n",
      "ㅋㅋㅋㅋㅋㅋㅋㅋㅋ\n"
     ]
    }
   ],
   "source": [
    "print('풍선') # 작은 따옴표로 감싼 문자열 \n",
    "print(\"나비\") # 큰 따옴표로 감싼 문자열 \n",
    "print(\"ㅋㅋㅋㅋㅋㅋㅋㅋㅋ\") # 긴 문자열 \n",
    "print(\"ㅋ\"*9) # ㅋ 을 9번 출력 \n"
   ]
  },
  {
   "cell_type": "markdown",
   "id": "6e1f1e43",
   "metadata": {},
   "source": [
    "> 작은따옴표를 쓰면 작은 따옴표, 큰따옴표를 쓰면 큰따옴표만 사용해야해요 '\"는 불가"
   ]
  },
  {
   "cell_type": "markdown",
   "id": "f278266c",
   "metadata": {},
   "source": [
    "# boolean 자료형\n",
    "- True 혹은 False "
   ]
  },
  {
   "cell_type": "code",
   "execution_count": 16,
   "id": "89269095",
   "metadata": {},
   "outputs": [
    {
     "name": "stdout",
     "output_type": "stream",
     "text": [
      "False\n",
      "True\n"
     ]
    }
   ],
   "source": [
    "print(5 > 10) # False 출력 \n",
    "print(5 < 10) # True 출력 "
   ]
  },
  {
   "cell_type": "code",
   "execution_count": 17,
   "id": "68c1683e",
   "metadata": {},
   "outputs": [
    {
     "name": "stdout",
     "output_type": "stream",
     "text": [
      "True\n",
      "False\n"
     ]
    }
   ],
   "source": [
    "print(True) # True \n",
    "print(False) # False "
   ]
  },
  {
   "cell_type": "code",
   "execution_count": 18,
   "id": "c01b18c5",
   "metadata": {},
   "outputs": [
    {
     "name": "stdout",
     "output_type": "stream",
     "text": [
      "False\n",
      "True\n",
      "True\n"
     ]
    }
   ],
   "source": [
    "print(not True) # False 출력 \n",
    "print(not False) # True 출력 \n",
    "print(not (5 > 10)) # True 출력 "
   ]
  },
  {
   "cell_type": "code",
   "execution_count": null,
   "id": "716d446d",
   "metadata": {},
   "outputs": [],
   "source": []
  }
 ],
 "metadata": {
  "kernelspec": {
   "display_name": "Python 3 (ipykernel)",
   "language": "python",
   "name": "python3"
  },
  "language_info": {
   "codemirror_mode": {
    "name": "ipython",
    "version": 3
   },
   "file_extension": ".py",
   "mimetype": "text/x-python",
   "name": "python",
   "nbconvert_exporter": "python",
   "pygments_lexer": "ipython3",
   "version": "3.8.12"
  }
 },
 "nbformat": 4,
 "nbformat_minor": 5
}
