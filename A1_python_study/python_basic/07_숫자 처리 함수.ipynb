{
 "cells": [
  {
   "cell_type": "markdown",
   "id": "b233d392",
   "metadata": {},
   "source": [
    "# 숫자 처리 함수 제공 \n",
    "- abs : 절대값\n",
    "- pow : 제곱\n",
    "- max : 가장 큰 값\n",
    "- min : 가장 작은 값\n",
    "- round : 반올림"
   ]
  },
  {
   "cell_type": "code",
   "execution_count": 2,
   "id": "c27af2be",
   "metadata": {},
   "outputs": [
    {
     "name": "stdout",
     "output_type": "stream",
     "text": [
      "5\n",
      "16\n",
      "12\n",
      "5\n",
      "3\n",
      "5\n"
     ]
    }
   ],
   "source": [
    "print(abs(-5)) # -5 의 절대값 = 5\n",
    "print(pow(4, 2)) # 4의 2제곱 = 4 * 4 = 16\n",
    "print(max(5, 12)) # 5 와 12 중 큰 값 = 12\n",
    "print(min(5, 12)) # 5 와 12 중 작은 값 = 5\n",
    "print(round(3.14)) # 3.14 의 반올림 = 3\n",
    "print(round(4.99)) # 4.99 의 반올림 = 5"
   ]
  },
  {
   "cell_type": "markdown",
   "id": "9739e3dd",
   "metadata": {},
   "source": [
    "# math이라는 모듈을 활용하면 다양한 숫자 처리 가능\n"
   ]
  },
  {
   "cell_type": "markdown",
   "id": "daa35dca",
   "metadata": {},
   "source": [
    "- 모듈은 어떤 기능을 모아놓은 파이썬 파일\n",
    "- 코드 내에서 모듈의 기능들을 가져다 쓰기 위해서는\n",
    "- from 모듈 이름 import 사용할 무언가"
   ]
  },
  {
   "cell_type": "code",
   "execution_count": 4,
   "id": "9461b16b",
   "metadata": {},
   "outputs": [],
   "source": [
    "from math import floor"
   ]
  },
  {
   "cell_type": "code",
   "execution_count": 3,
   "id": "873e9fed",
   "metadata": {},
   "outputs": [
    {
     "name": "stdout",
     "output_type": "stream",
     "text": [
      "4\n",
      "4\n",
      "4.0\n"
     ]
    }
   ],
   "source": [
    "# math이라는 모듈을 활용하면 다양한 숫자 처리 가능\n",
    "from math import * # math 모듈 내의 모든 내용을 가져다 쓰겠다는 의미\n",
    "\n",
    "print(floor(4.99)) # 4.99 의 내림 = 4\n",
    "print(ceil(3.14)) # 3.14 의 올림 = 4\n",
    "print(sqrt(16)) # 16 의 제곱근 = 4\n"
   ]
  },
  {
   "cell_type": "code",
   "execution_count": 5,
   "id": "b4b6331c",
   "metadata": {},
   "outputs": [
    {
     "name": "stdout",
     "output_type": "stream",
     "text": [
      "4\n",
      "4\n",
      "4.0\n"
     ]
    }
   ],
   "source": [
    "import math # math 모듈을 가져다 쓰겠다는 의미\n",
    "\n",
    "print(math.floor(4.99)) # math. 과 함께 사용\n",
    "print(math.ceil(3.14))\n",
    "print(math.sqrt(16))"
   ]
  },
  {
   "cell_type": "code",
   "execution_count": 6,
   "id": "d589e1f7",
   "metadata": {},
   "outputs": [],
   "source": [
    "# 이런게 있다 정도만!"
   ]
  },
  {
   "cell_type": "code",
   "execution_count": null,
   "id": "adf34cc3",
   "metadata": {},
   "outputs": [],
   "source": []
  }
 ],
 "metadata": {
  "kernelspec": {
   "display_name": "Python 3 (ipykernel)",
   "language": "python",
   "name": "python3"
  },
  "language_info": {
   "codemirror_mode": {
    "name": "ipython",
    "version": 3
   },
   "file_extension": ".py",
   "mimetype": "text/x-python",
   "name": "python",
   "nbconvert_exporter": "python",
   "pygments_lexer": "ipython3",
   "version": "3.8.12"
  }
 },
 "nbformat": 4,
 "nbformat_minor": 5
}
