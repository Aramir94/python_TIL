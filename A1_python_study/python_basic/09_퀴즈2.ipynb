{
 "cells": [
  {
   "cell_type": "markdown",
   "id": "a1f2fa84",
   "metadata": {},
   "source": [
    "# Quiz) 당신은 최근에  코딩 스터디 모임을 새로 만들었습니다\n",
    "\n",
    "- 월 4회 스터디를 하는데 3번은 온라인으로 하고 1번은 오프라인으로 하기로 했습니다. \n",
    "- 아래 조건에 맞는 오프라인 모임 날짜를 정해주는 프로그램을 작성하시오\n",
    "---\n",
    "- 조건1 : 랜덤으로 날짜를 뽑아야 함\n",
    "- 조건2 : 월별 날짜는 다름을 감안하여 최소 일수인 28 이내로 정함 \n",
    "       (아무리 늦어도 28일 이내의 날짜로 선정)\n",
    "- 조건3 : 매월 1~3일은 스터디 준비를 해야 하므로 제외\n",
    " "
   ]
  },
  {
   "cell_type": "code",
   "execution_count": null,
   "id": "001fa240",
   "metadata": {},
   "outputs": [],
   "source": []
  },
  {
   "cell_type": "code",
   "execution_count": null,
   "id": "9c200c4c",
   "metadata": {},
   "outputs": [],
   "source": []
  },
  {
   "cell_type": "code",
   "execution_count": null,
   "id": "d0e6b948",
   "metadata": {},
   "outputs": [],
   "source": []
  },
  {
   "cell_type": "code",
   "execution_count": null,
   "id": "afda3461",
   "metadata": {},
   "outputs": [],
   "source": []
  },
  {
   "cell_type": "code",
   "execution_count": null,
   "id": "6250263b",
   "metadata": {},
   "outputs": [],
   "source": []
  },
  {
   "cell_type": "code",
   "execution_count": null,
   "id": "3e8a26da",
   "metadata": {},
   "outputs": [],
   "source": []
  },
  {
   "cell_type": "code",
   "execution_count": null,
   "id": "822d2ef5",
   "metadata": {},
   "outputs": [],
   "source": []
  },
  {
   "cell_type": "code",
   "execution_count": null,
   "id": "50155a23",
   "metadata": {},
   "outputs": [],
   "source": []
  },
  {
   "cell_type": "code",
   "execution_count": null,
   "id": "9fe01466",
   "metadata": {},
   "outputs": [],
   "source": []
  },
  {
   "cell_type": "code",
   "execution_count": null,
   "id": "c68f0b86",
   "metadata": {},
   "outputs": [],
   "source": []
  },
  {
   "cell_type": "code",
   "execution_count": null,
   "id": "e50f6965",
   "metadata": {},
   "outputs": [],
   "source": []
  },
  {
   "cell_type": "code",
   "execution_count": null,
   "id": "a59b3023",
   "metadata": {},
   "outputs": [],
   "source": [
    "from random import *\n",
    "date = randint(4, 28) # 4 ~ 28 일 중에서 임의의 날짜 선정\n",
    "print(\"오프라인 스터디 모임 날짜는 매월 \" + str(date) + \"일로 선정되었습니다.\")"
   ]
  }
 ],
 "metadata": {
  "kernelspec": {
   "display_name": "Python 3 (ipykernel)",
   "language": "python",
   "name": "python3"
  },
  "language_info": {
   "codemirror_mode": {
    "name": "ipython",
    "version": 3
   },
   "file_extension": ".py",
   "mimetype": "text/x-python",
   "name": "python",
   "nbconvert_exporter": "python",
   "pygments_lexer": "ipython3",
   "version": "3.8.12"
  }
 },
 "nbformat": 4,
 "nbformat_minor": 5
}
