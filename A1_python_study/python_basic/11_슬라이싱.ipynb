{
 "cells": [
  {
   "cell_type": "markdown",
   "id": "50259f09",
   "metadata": {},
   "source": [
    "# 슬라이싱 "
   ]
  },
  {
   "cell_type": "markdown",
   "id": "52d9a15b",
   "metadata": {},
   "source": [
    "- 여러 문자의 집합으로 구성된 문자열 (또는 나중에 배울 리스트 등) 은 n 번째 인덱스에 있는 문자 (또는 데이터) 하나만을 가져올 수가 있습니다.\n",
    "- 이 때 사용되는 것이 바로 대괄호이며 이런 형태로 사용합니다."
   ]
  },
  {
   "cell_type": "markdown",
   "id": "f2f6be72",
   "metadata": {},
   "source": [
    "# 변수명[인덱스]"
   ]
  },
  {
   "cell_type": "code",
   "execution_count": 1,
   "id": "07a07f1d",
   "metadata": {},
   "outputs": [
    {
     "name": "stdout",
     "output_type": "stream",
     "text": [
      "성별 : 1\n"
     ]
    }
   ],
   "source": [
    "jumin = \"990120-1234567\"\n",
    "\n",
    "print(\"성별 : \" + jumin[7]) # 성별 : 1"
   ]
  },
  {
   "cell_type": "markdown",
   "id": "269fa8c2",
   "metadata": {},
   "source": [
    "## 주의\n",
    "- 프로그램에서 문자열을 포함한 어떤 인덱스 값은 0 부터 시작합니다"
   ]
  },
  {
   "cell_type": "markdown",
   "id": "83ec0fbc",
   "metadata": {},
   "source": [
    "- 인덱스 | 주민 번호\n",
    "- 0     | 9\n",
    "- 1     | 9\n",
    "- 2     | 0"
   ]
  },
  {
   "cell_type": "markdown",
   "id": "3a858d74",
   "metadata": {},
   "source": [
    "# 슬라이싱 \n",
    "-  인덱스와 마찬가지로 대괄호를 이용하며 필요에 따라 각 영역을 콜론(:) 으로 구분을 짓습니다"
   ]
  },
  {
   "cell_type": "markdown",
   "id": "0ccc82ba",
   "metadata": {},
   "source": [
    "## 변수명[시작인덱스:종료인덱스]"
   ]
  },
  {
   "cell_type": "code",
   "execution_count": 3,
   "id": "c10f69c7",
   "metadata": {},
   "outputs": [
    {
     "name": "stdout",
     "output_type": "stream",
     "text": [
      "연 : 99\n",
      "월 : 01\n",
      "일 : 20\n"
     ]
    }
   ],
   "source": [
    "# jumin = \"990120-1234567\"\n",
    "\n",
    "print(\"연 : \" + jumin[0:2]) # 0 부터 2 직전까지 (0, 1) : 99 년\n",
    "print(\"월 : \" + jumin[2:4]) # 2 부터 4 직전까지 (2, 3) : 01 월\n",
    "print(\"일 : \" + jumin[4:6]) # 4 부터 6 직전까지 (4, 5) : 20 일"
   ]
  },
  {
   "cell_type": "code",
   "execution_count": 4,
   "id": "2727e19f",
   "metadata": {},
   "outputs": [
    {
     "name": "stdout",
     "output_type": "stream",
     "text": [
      "생년월일 : 990120\n",
      "뒤 7자리 : 1234567\n"
     ]
    }
   ],
   "source": [
    "print(\"생년월일 : \" + jumin[:6]) # 처음부터 6 직전까지 -> jumin[0:6] 과 동일\n",
    "print(\"뒤 7자리 : \" + jumin[7:]) # 7 부터 끝까지 -> jumin[7:14] 와 동일"
   ]
  },
  {
   "cell_type": "code",
   "execution_count": 6,
   "id": "816512c7",
   "metadata": {},
   "outputs": [
    {
     "data": {
      "text/plain": [
       "'7'"
      ]
     },
     "execution_count": 6,
     "metadata": {},
     "output_type": "execute_result"
    }
   ],
   "source": [
    "## 주의  맨 뒤의 인덱스는 [-1] \n",
    "jumin[-1]"
   ]
  },
  {
   "cell_type": "code",
   "execution_count": 7,
   "id": "c64e7b75",
   "metadata": {},
   "outputs": [
    {
     "name": "stdout",
     "output_type": "stream",
     "text": [
      "뒤 7자리 (뒤에부터) : 1234567\n"
     ]
    }
   ],
   "source": [
    "print(\"뒤 7자리 (뒤에부터) : \" + jumin[-7:]) # 맨 뒤에서 7번째 위치로부터 끝까지"
   ]
  },
  {
   "cell_type": "code",
   "execution_count": null,
   "id": "60e75434",
   "metadata": {},
   "outputs": [],
   "source": []
  }
 ],
 "metadata": {
  "kernelspec": {
   "display_name": "Python 3 (ipykernel)",
   "language": "python",
   "name": "python3"
  },
  "language_info": {
   "codemirror_mode": {
    "name": "ipython",
    "version": 3
   },
   "file_extension": ".py",
   "mimetype": "text/x-python",
   "name": "python",
   "nbconvert_exporter": "python",
   "pygments_lexer": "ipython3",
   "version": "3.8.12"
  }
 },
 "nbformat": 4,
 "nbformat_minor": 5
}
