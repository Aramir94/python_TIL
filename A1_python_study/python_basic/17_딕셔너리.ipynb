{
 "cells": [
  {
   "cell_type": "markdown",
   "id": "715174da",
   "metadata": {},
   "source": [
    "# Dictionary \n",
    "- 사전과 같이 key value 쌍으로 구성되어 있습니다"
   ]
  },
  {
   "cell_type": "code",
   "execution_count": 1,
   "id": "17bb8425",
   "metadata": {},
   "outputs": [],
   "source": [
    "cabinet = {3: \"유재석\", 100: \"김태호\"}"
   ]
  },
  {
   "cell_type": "code",
   "execution_count": 2,
   "id": "a5703d03",
   "metadata": {},
   "outputs": [
    {
     "name": "stdout",
     "output_type": "stream",
     "text": [
      "유재석\n",
      "김태호\n"
     ]
    }
   ],
   "source": [
    "print(cabinet[3]) # 유재석 -> key 3 에 해당하는 value\n",
    "print(cabinet[100]) # 김태호 -> key 100 에 해당하는 value"
   ]
  },
  {
   "cell_type": "code",
   "execution_count": 3,
   "id": "d4650216",
   "metadata": {},
   "outputs": [
    {
     "name": "stdout",
     "output_type": "stream",
     "text": [
      "유재석\n"
     ]
    }
   ],
   "source": [
    "# 대괄호가 아닌 .get 방법도 존재\n",
    "print(cabinet.get(3)) # 유재석 -> key 3 에 해당하는 value"
   ]
  },
  {
   "cell_type": "code",
   "execution_count": 4,
   "id": "09a253ac",
   "metadata": {},
   "outputs": [
    {
     "ename": "KeyError",
     "evalue": "5",
     "output_type": "error",
     "traceback": [
      "\u001b[0;31m---------------------------------------------------------------------------\u001b[0m",
      "\u001b[0;31mKeyError\u001b[0m                                  Traceback (most recent call last)",
      "\u001b[0;32m/var/folders/2r/_fr309ls60x8zpqkcdvzvn940000gn/T/ipykernel_72931/918287406.py\u001b[0m in \u001b[0;36m<module>\u001b[0;34m\u001b[0m\n\u001b[0;32m----> 1\u001b[0;31m \u001b[0mprint\u001b[0m\u001b[0;34m(\u001b[0m\u001b[0mcabinet\u001b[0m\u001b[0;34m[\u001b[0m\u001b[0;36m5\u001b[0m\u001b[0;34m]\u001b[0m\u001b[0;34m)\u001b[0m \u001b[0;31m# key 가 5 인 값이 없을 땐 에러 발생 후 프로그램 종료 (hi 출력 안됨)\u001b[0m\u001b[0;34m\u001b[0m\u001b[0;34m\u001b[0m\u001b[0m\n\u001b[0m\u001b[1;32m      2\u001b[0m \u001b[0mprint\u001b[0m\u001b[0;34m(\u001b[0m\u001b[0;34m\"hi\"\u001b[0m\u001b[0;34m)\u001b[0m\u001b[0;34m\u001b[0m\u001b[0;34m\u001b[0m\u001b[0m\n",
      "\u001b[0;31mKeyError\u001b[0m: 5"
     ]
    }
   ],
   "source": [
    "print(cabinet[5]) # key 가 5 인 값이 없을 땐 에러 발생 후 프로그램 종료 "
   ]
  },
  {
   "cell_type": "code",
   "execution_count": 5,
   "id": "790b168e",
   "metadata": {},
   "outputs": [
    {
     "name": "stdout",
     "output_type": "stream",
     "text": [
      "사용 가능\n"
     ]
    }
   ],
   "source": [
    "# .get 매서드의 장점 딕셔너리에서 \n",
    "print(cabinet.get(5, \"사용 가능\")) # key 에 해당하는 값이 없는 경우 기본 값을 사용"
   ]
  },
  {
   "cell_type": "code",
   "execution_count": 6,
   "id": "ba2f6bbe",
   "metadata": {},
   "outputs": [
    {
     "name": "stdout",
     "output_type": "stream",
     "text": [
      "True\n",
      "False\n"
     ]
    }
   ],
   "source": [
    "# 사전 자료형에 값이 있는지 여부 확인\n",
    "print(3 in cabinet)  # True\n",
    "print(5 in cabinet)  # False"
   ]
  },
  {
   "cell_type": "code",
   "execution_count": 7,
   "id": "4dd94dd8",
   "metadata": {},
   "outputs": [
    {
     "name": "stdout",
     "output_type": "stream",
     "text": [
      "유재석\n",
      "김태호\n"
     ]
    }
   ],
   "source": [
    "# key 는 정수형이 아닌 문자열도 가능\n",
    "cabinet = {\"A-3\": \"유재석\", \"B-100\": \"김태호\"}\n",
    "print(cabinet[\"A-3\"]) # 유재석\n",
    "print(cabinet[\"B-100\"]) # 김태호"
   ]
  },
  {
   "cell_type": "code",
   "execution_count": 8,
   "id": "568e3bb8",
   "metadata": {},
   "outputs": [
    {
     "name": "stdout",
     "output_type": "stream",
     "text": [
      "{'A-3': '유재석', 'B-100': '김태호'}\n",
      "{'A-3': '김종국', 'B-100': '김태호', 'C-20': '조세호'}\n"
     ]
    }
   ],
   "source": [
    "# 업데이트 또는 추가\n",
    "print(cabinet) # {'A-3': '유재석', 'B-100': '김태호'}\n",
    "cabinet[\"A-3\"] = \"김종국\" # key 에 해당하는 값이 있는 경우 업데이트\n",
    "cabinet[\"C-20\"] = \"조세호\" # key 에 해당하는 값이 없는 경우 신규 추가\n",
    "print(cabinet) # {'A-3': '김종국', 'B-100': '김태호', 'C-20': '조세호'}"
   ]
  },
  {
   "cell_type": "code",
   "execution_count": 9,
   "id": "0f1f4d4e",
   "metadata": {},
   "outputs": [
    {
     "name": "stdout",
     "output_type": "stream",
     "text": [
      "{'B-100': '김태호', 'C-20': '조세호'}\n"
     ]
    }
   ],
   "source": [
    "# 삭제\n",
    "del cabinet[\"A-3\"] # key \"A-3\" 에 해당하는 데이터 삭제\n",
    "print(cabinet) # {'B-100': '김태호', 'C-20': '조세호'}"
   ]
  },
  {
   "cell_type": "code",
   "execution_count": 10,
   "id": "e7af94de",
   "metadata": {},
   "outputs": [
    {
     "name": "stdout",
     "output_type": "stream",
     "text": [
      "dict_keys(['B-100', 'C-20'])\n"
     ]
    }
   ],
   "source": [
    "# key 들만 출력\n",
    "print(cabinet.keys()) # dict_keys(['B-100', 'C-20'])"
   ]
  },
  {
   "cell_type": "code",
   "execution_count": 11,
   "id": "85061119",
   "metadata": {},
   "outputs": [
    {
     "name": "stdout",
     "output_type": "stream",
     "text": [
      "dict_values(['김태호', '조세호'])\n"
     ]
    }
   ],
   "source": [
    "# value 들만 출력\n",
    "print(cabinet.values()) # dict_values(['김태호', '조세호'])"
   ]
  },
  {
   "cell_type": "code",
   "execution_count": 12,
   "id": "bb17e459",
   "metadata": {},
   "outputs": [
    {
     "name": "stdout",
     "output_type": "stream",
     "text": [
      "dict_items([('B-100', '김태호'), ('C-20', '조세호')])\n"
     ]
    }
   ],
   "source": [
    "# key, value 쌍으로 출력\n",
    "print(cabinet.items()) # dict_items([('B-100', '김태호'), ('C-20', '조세호')])"
   ]
  },
  {
   "cell_type": "code",
   "execution_count": 13,
   "id": "c309939b",
   "metadata": {},
   "outputs": [
    {
     "name": "stdout",
     "output_type": "stream",
     "text": [
      "{}\n"
     ]
    }
   ],
   "source": [
    "# 전체 삭제\n",
    "cabinet.clear()\n",
    "print(cabinet) # {}"
   ]
  },
  {
   "cell_type": "code",
   "execution_count": null,
   "id": "dff579d7",
   "metadata": {},
   "outputs": [],
   "source": []
  }
 ],
 "metadata": {
  "kernelspec": {
   "display_name": "Python 3 (ipykernel)",
   "language": "python",
   "name": "python3"
  },
  "language_info": {
   "codemirror_mode": {
    "name": "ipython",
    "version": 3
   },
   "file_extension": ".py",
   "mimetype": "text/x-python",
   "name": "python",
   "nbconvert_exporter": "python",
   "pygments_lexer": "ipython3",
   "version": "3.8.12"
  }
 },
 "nbformat": 4,
 "nbformat_minor": 5
}
