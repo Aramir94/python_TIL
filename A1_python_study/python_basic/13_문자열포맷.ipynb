{
 "cells": [
  {
   "cell_type": "markdown",
   "id": "f3241f4e",
   "metadata": {},
   "source": [
    "- \"+\" 를 이용하면 문자열들 사이에 띄어쓰기가 없고 \n",
    "- \",\" 를 이용하면 띄어쓰기로 구분되어 문자열이 출력"
   ]
  },
  {
   "cell_type": "code",
   "execution_count": 3,
   "id": "9508a758",
   "metadata": {},
   "outputs": [
    {
     "name": "stdout",
     "output_type": "stream",
     "text": [
      "ab\n",
      "a b\n"
     ]
    }
   ],
   "source": [
    "print(\"a\" + \"b\") # ab\n",
    "print(\"a\", \"b\") # a b"
   ]
  },
  {
   "cell_type": "markdown",
   "id": "305da542",
   "metadata": {},
   "source": [
    "### 그외에 다양한 포맷으로 문자열 출력하는 방법 "
   ]
  },
  {
   "cell_type": "markdown",
   "id": "f9614041",
   "metadata": {},
   "source": [
    "# 1\n",
    "print(\"문자열 %d 문자열\" % 정수) \"%d\" -> decimal : 정수\n",
    "\n",
    "print(\"문자열 %c 문자열\" % 문자) \"%c\" -> character : 문자\n",
    "\n",
    "print(\"문자열 %s 문자열\" % 문자열) \"%s\" -> string : 문자열 -- %s를 쓰면 정수, 문자, 문자열 상관 없이 사용 가능"
   ]
  },
  {
   "cell_type": "code",
   "execution_count": 5,
   "id": "33a77d04",
   "metadata": {},
   "outputs": [
    {
     "name": "stdout",
     "output_type": "stream",
     "text": [
      "나는 20살입니다.\n",
      "나는 파이썬을 좋아합니다.\n",
      "Apple 은 A로 시작해요.\n",
      "나는 20살입니다.\n"
     ]
    }
   ],
   "source": [
    "# 방법 1\n",
    "\n",
    "print(\"나는 %d살입니다.\" % 20) # 나는 20살입니다\n",
    "print(\"나는 %s을 좋아합니다.\" % \"파이썬\") # 나는 파이썬을 좋아합니다.\n",
    "print(\"Apple 은 %c로 시작해요.\" % \"A\") # Apple 은 A로 시작해요.\n",
    "\n",
    "print(\"나는 %s살입니다.\" % 20) # 나는 20살입니다 (%s 로도 정수값 표현 가능)"
   ]
  },
  {
   "cell_type": "markdown",
   "id": "9e770193",
   "metadata": {},
   "source": [
    "- 2개 이상의 값을 넣을려고 한다면..?"
   ]
  },
  {
   "cell_type": "code",
   "execution_count": 7,
   "id": "131284ed",
   "metadata": {},
   "outputs": [
    {
     "name": "stdout",
     "output_type": "stream",
     "text": [
      "나는 파란색과 빨간색을 좋아해요.\n"
     ]
    }
   ],
   "source": [
    "print(\"나는 %s색과 %s색을 좋아해요.\" % (\"파란\", \"빨간\")) # 나는 파란색과 빨간색을 좋아해요."
   ]
  },
  {
   "cell_type": "markdown",
   "id": "683183df",
   "metadata": {},
   "source": [
    "# 2 \n",
    ".format()"
   ]
  },
  {
   "cell_type": "code",
   "execution_count": 9,
   "id": "b17052ed",
   "metadata": {},
   "outputs": [
    {
     "name": "stdout",
     "output_type": "stream",
     "text": [
      "나는 20살입니다.\n",
      "나는 파란색과 빨간색을 좋아해요.\n",
      "나는 파란색과 빨간색을 좋아해요.\n",
      "나는 빨간색과 파란색을 좋아해요.\n"
     ]
    }
   ],
   "source": [
    "print(\"나는 {}살입니다.\".format(20)) # 나는 20살입니다.\n",
    "print(\"나는 {}색과 {}색을 좋아해요.\".format(\"파란\", \"빨간\")) # 나는 파란색과 빨간색을 좋아해요\n",
    "print(\"나는 {0}색과 {1}색을 좋아해요.\".format(\"파란\", \"빨간\")) # 나는 파란색과 빨간색을 좋아해요\n",
    "print(\"나는 {1}색과 {0}색을 좋아해요.\".format(\"파란\", \"빨간\")) # 나는 빨간색과 파란색을 좋아해요"
   ]
  },
  {
   "cell_type": "markdown",
   "id": "cdbba7d8",
   "metadata": {},
   "source": [
    "# 3\n",
    "{이름}"
   ]
  },
  {
   "cell_type": "code",
   "execution_count": 10,
   "id": "dba343eb",
   "metadata": {},
   "outputs": [
    {
     "name": "stdout",
     "output_type": "stream",
     "text": [
      "나는 20살이며, 빨간색을 좋아해요.\n",
      "나는 20살이며, 빨간색을 좋아해요.\n"
     ]
    }
   ],
   "source": [
    "# 방법 3\n",
    "\n",
    "print(\"나는 {age}살이며, {color}색을 좋아해요.\".format(age=20, color=\"빨간\"))\n",
    "# 나는 20살이며, 빨간색을 좋아해요\n",
    "\n",
    "print(\"나는 {age}살이며, {color}색을 좋아해요.\".format(color=\"빨간\", age=20))\n",
    "# 나는 20살이며, 빨간색을 좋아해요 (.format 뒤에 순서를 변경해도 괜찮아요)"
   ]
  },
  {
   "cell_type": "markdown",
   "id": "bb2d97f9",
   "metadata": {},
   "source": [
    "# 4\n",
    "- f-string"
   ]
  },
  {
   "cell_type": "code",
   "execution_count": 11,
   "id": "6968a876",
   "metadata": {},
   "outputs": [
    {
     "name": "stdout",
     "output_type": "stream",
     "text": [
      "나는 20살이며, 빨간색을 좋아해요.\n"
     ]
    }
   ],
   "source": [
    "age = 20\n",
    "color = \"빨간\"\n",
    "print(f\"나는 {age}살이며, {color}색을 좋아해요.\") # 나는 20살이며, 빨간색을 좋아해요."
   ]
  },
  {
   "cell_type": "code",
   "execution_count": null,
   "id": "747f7b4b",
   "metadata": {},
   "outputs": [],
   "source": []
  }
 ],
 "metadata": {
  "kernelspec": {
   "display_name": "Python 3 (ipykernel)",
   "language": "python",
   "name": "python3"
  },
  "language_info": {
   "codemirror_mode": {
    "name": "ipython",
    "version": 3
   },
   "file_extension": ".py",
   "mimetype": "text/x-python",
   "name": "python",
   "nbconvert_exporter": "python",
   "pygments_lexer": "ipython3",
   "version": "3.8.12"
  }
 },
 "nbformat": 4,
 "nbformat_minor": 5
}
