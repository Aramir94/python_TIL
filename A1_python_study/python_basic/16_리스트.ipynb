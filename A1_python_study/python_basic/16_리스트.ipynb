{
 "cells": [
  {
   "cell_type": "code",
   "execution_count": 17,
   "id": "b5523dc5",
   "metadata": {},
   "outputs": [],
   "source": [
    "# 지하철 칸별로 10명, 20명, 30명\n",
    "subway1 = 10\n",
    "subway2 = 20\n",
    "subway3 = 30"
   ]
  },
  {
   "cell_type": "markdown",
   "id": "afbec704",
   "metadata": {},
   "source": [
    "### 비슷한 성질의 변수들을 묶어서 표현한 자료 구조"
   ]
  },
  {
   "cell_type": "code",
   "execution_count": 18,
   "id": "057c92fc",
   "metadata": {},
   "outputs": [
    {
     "name": "stdout",
     "output_type": "stream",
     "text": [
      "[10, 20, 30]\n"
     ]
    }
   ],
   "source": [
    "subway = [10, 20, 30]\n",
    "print(subway) # [10, 20, 30]"
   ]
  },
  {
   "cell_type": "code",
   "execution_count": 19,
   "id": "894a94ca",
   "metadata": {},
   "outputs": [
    {
     "name": "stdout",
     "output_type": "stream",
     "text": [
      "['유재석', '조세호', '박명수']\n"
     ]
    }
   ],
   "source": [
    "subway = [\"유재석\", \"조세호\", \"박명수\"]\n",
    "print(subway) # ['유재석', '조세호', '박명수']"
   ]
  },
  {
   "cell_type": "code",
   "execution_count": 20,
   "id": "7d8c01a2",
   "metadata": {},
   "outputs": [
    {
     "name": "stdout",
     "output_type": "stream",
     "text": [
      "1\n"
     ]
    }
   ],
   "source": [
    "# 조세호씨가 몇 번째 칸에 타고 있는가?\n",
    "# 몇 번째 칸에 있는지 확인하려면 문자열 처리에서 배웠던 것과 같이 index() 함수를 이용하면\n",
    "print(subway.index(\"조세호\")) # 1 (인덱스는 0부터 시작한다는 것, 기억나시죠?)"
   ]
  },
  {
   "cell_type": "markdown",
   "id": "1714faa7",
   "metadata": {},
   "source": [
    "### .append() : 리스트 맨 뒤에 변수 추가 "
   ]
  },
  {
   "cell_type": "code",
   "execution_count": 1,
   "id": "a21ef921",
   "metadata": {},
   "outputs": [
    {
     "name": "stdout",
     "output_type": "stream",
     "text": [
      "['유재석', '조세호', '박명수', '하하']\n"
     ]
    }
   ],
   "source": [
    "# 하하씨가 다음 정류장에서 다음 칸에 탐\n",
    "subway = [\"유재석\", \"조세호\", \"박명수\"]\n",
    "\n",
    "subway.append(\"하하\")\n",
    "print(subway) # ['유재석', '조세호', '박명수', '하하']"
   ]
  },
  {
   "cell_type": "markdown",
   "id": "0a0abc53",
   "metadata": {},
   "source": [
    "### .insert(1, '정현석') -> 집어넣을려는 인덱스 번호,  데이터 "
   ]
  },
  {
   "cell_type": "code",
   "execution_count": 2,
   "id": "1480fef2",
   "metadata": {},
   "outputs": [
    {
     "name": "stdout",
     "output_type": "stream",
     "text": [
      "['유재석', '정형돈', '조세호', '박명수', '하하']\n"
     ]
    }
   ],
   "source": [
    "# 정형돈씨를 유재석 / 조세호 사이에 태움\n",
    "subway.insert(1, \"정형돈\") # 인덱스 1 위치에 삽입\n",
    "print(subway) # ['유재석', '정형돈', '조세호', '박명수', '하하']"
   ]
  },
  {
   "cell_type": "markdown",
   "id": "a4e0a016",
   "metadata": {},
   "source": [
    "### .pop() -> 맨 뒤에서 부터 하나씩 제거"
   ]
  },
  {
   "cell_type": "code",
   "execution_count": 3,
   "id": "0795956c",
   "metadata": {},
   "outputs": [
    {
     "name": "stdout",
     "output_type": "stream",
     "text": [
      "하하\n",
      "['유재석', '정형돈', '조세호', '박명수']\n",
      "박명수\n",
      "['유재석', '정형돈', '조세호']\n",
      "조세호\n",
      "['유재석', '정형돈']\n"
     ]
    }
   ],
   "source": [
    "# ['유재석', '정형돈', '조세호', '박명수', '하하']\n",
    "\n",
    "# 지하철에 있는 사람을 한 명씩 뒤에서 꺼냄\n",
    "print(subway.pop()) # 하하 내림\n",
    "print(subway) # ['유재석', '정형돈', '조세호', '박명수']\n",
    "\n",
    "print(subway.pop()) # 박명수 내림\n",
    "print(subway) # ['유재석', '정형돈', '조세호']\n",
    "\n",
    "print(subway.pop()) # 조세호 내림\n",
    "print(subway) # ['유재석', '정형돈']"
   ]
  },
  {
   "cell_type": "markdown",
   "id": "6f55dbcb",
   "metadata": {},
   "source": [
    "# 숫자로 구성된 리스트 생성해서 새로운 예제 "
   ]
  },
  {
   "cell_type": "code",
   "execution_count": 26,
   "id": "441a3cdd",
   "metadata": {},
   "outputs": [],
   "source": [
    "num_list = [5, 2, 4, 3, 1]"
   ]
  },
  {
   "cell_type": "code",
   "execution_count": 27,
   "id": "36d46aee",
   "metadata": {},
   "outputs": [
    {
     "name": "stdout",
     "output_type": "stream",
     "text": [
      "[1, 2, 3, 4, 5]\n"
     ]
    }
   ],
   "source": [
    "### 정렬 \n",
    "num_list.sort() # 정렬\n",
    "print(num_list) # [1, 2, 3, 4, 5]"
   ]
  },
  {
   "cell_type": "code",
   "execution_count": 28,
   "id": "d0b8d9e2",
   "metadata": {},
   "outputs": [
    {
     "name": "stdout",
     "output_type": "stream",
     "text": [
      "[5, 4, 3, 2, 1]\n"
     ]
    }
   ],
   "source": [
    "num_list.reverse() # 순서 뒤집기\n",
    "print(num_list) # [5, 4, 3, 2, 1]"
   ]
  },
  {
   "cell_type": "code",
   "execution_count": 30,
   "id": "8af8828c",
   "metadata": {},
   "outputs": [
    {
     "name": "stdout",
     "output_type": "stream",
     "text": [
      "[]\n"
     ]
    }
   ],
   "source": [
    "# 모두 지우기\n",
    "num_list.clear()\n",
    "print(num_list) # []"
   ]
  },
  {
   "cell_type": "markdown",
   "id": "89c0cd15",
   "metadata": {},
   "source": [
    "### 리스트에는 꼭 숫자끼리 문자열 끼리 넣을 필요 없다, 정수형, 실수형, 문자형, boolean, 리스트도 넣기 가능 "
   ]
  },
  {
   "cell_type": "code",
   "execution_count": 34,
   "id": "a8bced09",
   "metadata": {},
   "outputs": [
    {
     "name": "stdout",
     "output_type": "stream",
     "text": [
      "['조세호', 20, True, [1, 2, 3]]\n"
     ]
    }
   ],
   "source": [
    "mix_list = [\"조세호\", 20, True, [1,2,3]] # 다양한 자료형을 함께 사용할 수 있어요\n",
    "print(mix_list) # ['조세호', 20, True]"
   ]
  },
  {
   "cell_type": "code",
   "execution_count": 35,
   "id": "86389e2b",
   "metadata": {},
   "outputs": [
    {
     "name": "stdout",
     "output_type": "stream",
     "text": [
      "[5, 2, 4, 3, 1, '조세호', 20, True, [1, 2, 3]]\n"
     ]
    }
   ],
   "source": [
    "num_list = [5, 2, 4, 3, 1] # num_list 값 다시 정의\n",
    "num_list.extend(mix_list) # 리스트 확장\n",
    "print(num_list) # [5, 2, 4, 3, 1, '조세호', 20, True]\n",
    "mix_list.extend(num_list)"
   ]
  },
  {
   "cell_type": "code",
   "execution_count": null,
   "id": "b0481edc",
   "metadata": {},
   "outputs": [],
   "source": []
  }
 ],
 "metadata": {
  "kernelspec": {
   "display_name": "Python 3.9.12 64-bit",
   "language": "python",
   "name": "python3"
  },
  "language_info": {
   "codemirror_mode": {
    "name": "ipython",
    "version": 3
   },
   "file_extension": ".py",
   "mimetype": "text/x-python",
   "name": "python",
   "nbconvert_exporter": "python",
   "pygments_lexer": "ipython3",
   "version": "3.9.12"
  },
  "vscode": {
   "interpreter": {
    "hash": "b0fa6594d8f4cbf19f97940f81e996739fb7646882a419484c72d19e05852a7e"
   }
  }
 },
 "nbformat": 4,
 "nbformat_minor": 5
}
