{
 "cells": [
  {
   "cell_type": "code",
   "execution_count": 1,
   "id": "1f180748",
   "metadata": {},
   "outputs": [
    {
     "name": "stdout",
     "output_type": "stream",
     "text": [
      "1, 책을 읽어봐\n",
      "3, 책을 읽어봐\n",
      "4, 책을 읽어봐\n",
      "6, 책을 읽어봐\n",
      "7, 책을 읽어봐\n",
      "8, 책을 읽어봐\n",
      "9, 책을 읽어봐\n",
      "10, 책을 읽어봐\n"
     ]
    }
   ],
   "source": [
    "absent = [2, 5] # 결석한 학생 출석번호\n",
    "\n",
    "for student in range(1, 11): # 출석번호 1~10번\n",
    "    if student in absent: # 결석했으면 책을 읽지 않고 다음 학생으로 넘어가기\n",
    "        continue\n",
    "    print(\"{0}, 책을 읽어봐\".format(student))"
   ]
  },
  {
   "cell_type": "code",
   "execution_count": 2,
   "id": "1c8a56af",
   "metadata": {},
   "outputs": [
    {
     "name": "stdout",
     "output_type": "stream",
     "text": [
      "1, 책을 읽어봐\n",
      "3, 책을 읽어봐\n",
      "4, 책을 읽어봐\n",
      "6, 책을 읽어봐\n",
      "오늘 수업 여기까지. 7는 교무실로 따라와\n"
     ]
    }
   ],
   "source": [
    "absent = [2, 5] # 결석한 학생 출석번호\n",
    "no_book = [7] # 책을 가져오지 않은 학생 출석번호\n",
    "\n",
    "for student in range(1, 11): # 출석번호 1~10번\n",
    "    if student in absent: # 결석했으면 책을 읽지 않고 다음 학생으로 넘어가기\n",
    "        continue\n",
    "    elif student in no_book: # 책을 가져오지 않았으면 바로 수업 종료 (반복문 탈출)\n",
    "        print(\"오늘 수업 여기까지. {0}는 교무실로 따라와\".format(student))\n",
    "        break\n",
    "    print(\"{0}, 책을 읽어봐\".format(student))\n"
   ]
  },
  {
   "cell_type": "code",
   "execution_count": null,
   "id": "f1d17ce6",
   "metadata": {},
   "outputs": [],
   "source": []
  }
 ],
 "metadata": {
  "kernelspec": {
   "display_name": "Python 3 (ipykernel)",
   "language": "python",
   "name": "python3"
  },
  "language_info": {
   "codemirror_mode": {
    "name": "ipython",
    "version": 3
   },
   "file_extension": ".py",
   "mimetype": "text/x-python",
   "name": "python",
   "nbconvert_exporter": "python",
   "pygments_lexer": "ipython3",
   "version": "3.9.13"
  }
 },
 "nbformat": 4,
 "nbformat_minor": 5
}
